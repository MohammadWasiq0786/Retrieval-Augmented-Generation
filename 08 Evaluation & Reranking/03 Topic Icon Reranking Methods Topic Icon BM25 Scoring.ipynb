{
  "cells": [
    {
      "cell_type": "markdown",
      "id": "649800f4",
      "metadata": {
        "id": "649800f4"
      },
      "source": [
        "![image.png](attachment:image.png)"
      ]
    },
    {
      "cell_type": "code",
      "execution_count": 1,
      "id": "c4b5de24",
      "metadata": {
        "id": "c4b5de24"
      },
      "outputs": [],
      "source": [
        "!pip install -q rank_bm25"
      ]
    },
    {
      "cell_type": "code",
      "execution_count": 2,
      "id": "a2152ab5",
      "metadata": {
        "id": "a2152ab5"
      },
      "outputs": [],
      "source": [
        "from rank_bm25 import BM25Okapi\n",
        "from pprint import pprint"
      ]
    },
    {
      "cell_type": "code",
      "execution_count": 3,
      "id": "215bb03d",
      "metadata": {
        "id": "215bb03d"
      },
      "outputs": [],
      "source": [
        "corpus = [\n",
        "    \"EURI is an AI assistant for developers.\",\n",
        "    \"BM25 is a ranking function based on term frequency and document length.\",\n",
        "    \"Retrieval-augmented generation uses a retriever and a reranker.\",\n",
        "    \"EURI helps in question answering using context from documents.\"\n",
        "]\n"
      ]
    },
    {
      "cell_type": "code",
      "execution_count": 4,
      "id": "7f344a09",
      "metadata": {
        "id": "7f344a09"
      },
      "outputs": [],
      "source": [
        "tokenized_corpus = [doc.lower().split() for doc in corpus]"
      ]
    },
    {
      "cell_type": "code",
      "execution_count": 5,
      "id": "635df22f",
      "metadata": {
        "colab": {
          "base_uri": "https://localhost:8080/"
        },
        "id": "635df22f",
        "outputId": "dee18d28-9200-4524-95d3-79f325ec96fe"
      },
      "outputs": [
        {
          "output_type": "execute_result",
          "data": {
            "text/plain": [
              "[['euri', 'is', 'an', 'ai', 'assistant', 'for', 'developers.'],\n",
              " ['bm25',\n",
              "  'is',\n",
              "  'a',\n",
              "  'ranking',\n",
              "  'function',\n",
              "  'based',\n",
              "  'on',\n",
              "  'term',\n",
              "  'frequency',\n",
              "  'and',\n",
              "  'document',\n",
              "  'length.'],\n",
              " ['retrieval-augmented',\n",
              "  'generation',\n",
              "  'uses',\n",
              "  'a',\n",
              "  'retriever',\n",
              "  'and',\n",
              "  'a',\n",
              "  'reranker.'],\n",
              " ['euri',\n",
              "  'helps',\n",
              "  'in',\n",
              "  'question',\n",
              "  'answering',\n",
              "  'using',\n",
              "  'context',\n",
              "  'from',\n",
              "  'documents.']]"
            ]
          },
          "metadata": {},
          "execution_count": 5
        }
      ],
      "source": [
        "tokenized_corpus"
      ]
    },
    {
      "cell_type": "code",
      "execution_count": 6,
      "id": "12fc6d33",
      "metadata": {
        "id": "12fc6d33"
      },
      "outputs": [],
      "source": [
        "bm25 = BM25Okapi(tokenized_corpus)"
      ]
    },
    {
      "cell_type": "code",
      "execution_count": 7,
      "id": "25183a85",
      "metadata": {
        "id": "25183a85"
      },
      "outputs": [],
      "source": [
        "query = \"EURI helps in question answering using context \""
      ]
    },
    {
      "cell_type": "code",
      "execution_count": 8,
      "id": "92467d49",
      "metadata": {
        "id": "92467d49"
      },
      "outputs": [],
      "source": [
        "tokenized_query = query.lower().split()"
      ]
    },
    {
      "cell_type": "code",
      "execution_count": 9,
      "id": "684c05a0",
      "metadata": {
        "colab": {
          "base_uri": "https://localhost:8080/"
        },
        "id": "684c05a0",
        "outputId": "14f3271e-5c49-46fa-9e87-563bf8c0c89a"
      },
      "outputs": [
        {
          "output_type": "execute_result",
          "data": {
            "text/plain": [
              "['euri', 'helps', 'in', 'question', 'answering', 'using', 'context']"
            ]
          },
          "metadata": {},
          "execution_count": 9
        }
      ],
      "source": [
        "tokenized_query"
      ]
    },
    {
      "cell_type": "code",
      "execution_count": 10,
      "id": "f67918ec",
      "metadata": {
        "id": "f67918ec"
      },
      "outputs": [],
      "source": [
        "scores = bm25.get_scores(tokenized_query)"
      ]
    },
    {
      "cell_type": "code",
      "execution_count": 11,
      "id": "af483b04",
      "metadata": {
        "colab": {
          "base_uri": "https://localhost:8080/"
        },
        "id": "af483b04",
        "outputId": "d5909538-2d52-4119-a887-6e8615009a8a"
      },
      "outputs": [
        {
          "output_type": "execute_result",
          "data": {
            "text/plain": [
              "array([0.        , 0.        , 0.        , 5.08378716])"
            ]
          },
          "metadata": {},
          "execution_count": 11
        }
      ],
      "source": [
        "scores"
      ]
    },
    {
      "cell_type": "code",
      "execution_count": 12,
      "id": "b10c9e9b",
      "metadata": {
        "id": "b10c9e9b"
      },
      "outputs": [],
      "source": [
        "ranked = sorted(zip(corpus, scores), key=lambda x: x[1], reverse=True)"
      ]
    },
    {
      "cell_type": "code",
      "execution_count": 13,
      "id": "c4a0e99b",
      "metadata": {
        "colab": {
          "base_uri": "https://localhost:8080/"
        },
        "id": "c4a0e99b",
        "outputId": "ad748f69-f8a0-4f37-8ca0-b7ecd6cf8efd"
      },
      "outputs": [
        {
          "output_type": "execute_result",
          "data": {
            "text/plain": [
              "[('EURI helps in question answering using context from documents.',\n",
              "  np.float64(5.083787162323222)),\n",
              " ('EURI is an AI assistant for developers.', np.float64(0.0)),\n",
              " ('BM25 is a ranking function based on term frequency and document length.',\n",
              "  np.float64(0.0)),\n",
              " ('Retrieval-augmented generation uses a retriever and a reranker.',\n",
              "  np.float64(0.0))]"
            ]
          },
          "metadata": {},
          "execution_count": 13
        }
      ],
      "source": [
        "ranked"
      ]
    },
    {
      "cell_type": "code",
      "execution_count": 14,
      "id": "30395548",
      "metadata": {
        "colab": {
          "base_uri": "https://localhost:8080/"
        },
        "id": "30395548",
        "outputId": "44cbf6eb-03d3-4553-9695-a1bdf88f7e56"
      },
      "outputs": [
        {
          "output_type": "stream",
          "name": "stdout",
          "text": [
            "🔍 Ranked Results (Highest to Lowest BM25 Score):\n",
            "\n",
            "1. [Score: 5.08] EURI helps in question answering using context from documents.\n",
            "2. [Score: 0.00] EURI is an AI assistant for developers.\n",
            "3. [Score: 0.00] BM25 is a ranking function based on term frequency and document length.\n",
            "4. [Score: 0.00] Retrieval-augmented generation uses a retriever and a reranker.\n"
          ]
        }
      ],
      "source": [
        "print(\"🔍 Ranked Results (Highest to Lowest BM25 Score):\\n\")\n",
        "for rank, (doc, score) in enumerate(ranked, 1):\n",
        "    print(f\"{rank}. [Score: {score:.2f}] {doc}\")"
      ]
    },
    {
      "cell_type": "code",
      "execution_count": null,
      "id": "bd14d850",
      "metadata": {
        "id": "bd14d850"
      },
      "outputs": [],
      "source": []
    }
  ],
  "metadata": {
    "kernelspec": {
      "display_name": "lang_graph",
      "language": "python",
      "name": "python3"
    },
    "language_info": {
      "codemirror_mode": {
        "name": "ipython",
        "version": 3
      },
      "file_extension": ".py",
      "mimetype": "text/x-python",
      "name": "python",
      "nbconvert_exporter": "python",
      "pygments_lexer": "ipython3",
      "version": "3.10.18"
    },
    "colab": {
      "provenance": []
    }
  },
  "nbformat": 4,
  "nbformat_minor": 5
}