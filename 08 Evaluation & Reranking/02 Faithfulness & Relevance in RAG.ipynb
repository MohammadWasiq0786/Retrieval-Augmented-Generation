{
  "cells": [
    {
      "cell_type": "code",
      "execution_count": 1,
      "id": "f87ef817",
      "metadata": {
        "id": "f87ef817"
      },
      "outputs": [],
      "source": [
        "import requests\n",
        "import numpy as np\n",
        "\n",
        "EURI_API_KRY= \"euri-....\"\n",
        "\n",
        "# Step 1: Generate Embedding using EURI API\n",
        "def generate_embeddings(text):\n",
        "    url = \"https://api.euron.one/api/v1/euri/embeddings\"\n",
        "    headers = {\n",
        "        \"Content-Type\": \"application/json\",\n",
        "        \"Authorization\": f\"Bearer {EURI_API_KRY}\"  # Replace with your actual token\n",
        "    }\n",
        "    payload = {\n",
        "        \"input\": text,\n",
        "        \"model\": \"text-embedding-3-small\"\n",
        "    }\n",
        "\n",
        "    response = requests.post(url, headers=headers, json=payload)\n",
        "    response.raise_for_status()\n",
        "    data = response.json()\n",
        "    return np.array(data['data'][0]['embedding'])"
      ]
    },
    {
      "cell_type": "code",
      "execution_count": 2,
      "id": "a933e1ed",
      "metadata": {
        "id": "a933e1ed"
      },
      "outputs": [],
      "source": [
        "def cosine_similarity(vec1, vec2):\n",
        "    dot = np.dot(vec1, vec2)\n",
        "    norm1 = np.linalg.norm(vec1)\n",
        "    norm2 = np.linalg.norm(vec2)\n",
        "    return dot / (norm1 * norm2)\n"
      ]
    },
    {
      "cell_type": "code",
      "execution_count": 3,
      "id": "dbe651e0",
      "metadata": {
        "id": "dbe651e0"
      },
      "outputs": [],
      "source": [
        "query = \"What is LangGraph used for in LangChain?\""
      ]
    },
    {
      "cell_type": "code",
      "execution_count": 4,
      "id": "5b66ed21",
      "metadata": {
        "id": "5b66ed21"
      },
      "outputs": [],
      "source": [
        "retrieved_context = \"\"\"\n",
        "LangGraph is a stateful orchestration framework in LangChain that helps build multi-agent workflows using a graph-based execution engine.\n",
        "It allows defining AI workflows with conditional routing and memory across nodes.\n",
        "\"\"\""
      ]
    },
    {
      "cell_type": "code",
      "execution_count": 5,
      "id": "ed6ff05a",
      "metadata": {
        "id": "ed6ff05a"
      },
      "outputs": [],
      "source": [
        "generated_response = \"LangGraph is used in LangChain to build multi-agent workflows with stateful memory and routing logic, enabling complex orchestration of tasks.\""
      ]
    },
    {
      "cell_type": "code",
      "execution_count": 6,
      "id": "ba46f790",
      "metadata": {
        "id": "ba46f790"
      },
      "outputs": [],
      "source": [
        "embedding_query = generate_embeddings(query)"
      ]
    },
    {
      "cell_type": "code",
      "execution_count": 7,
      "id": "657ccedc",
      "metadata": {
        "colab": {
          "base_uri": "https://localhost:8080/"
        },
        "id": "657ccedc",
        "outputId": "d5b0010b-63d1-4fe6-ab41-1e29a6b589b0"
      },
      "outputs": [
        {
          "output_type": "execute_result",
          "data": {
            "text/plain": [
              "array([ 0.00557574, -0.00368555,  0.01489916, ..., -0.01279967,\n",
              "        0.00199484,  0.00884924])"
            ]
          },
          "metadata": {},
          "execution_count": 7
        }
      ],
      "source": [
        "embedding_query\n"
      ]
    },
    {
      "cell_type": "code",
      "execution_count": 8,
      "id": "dc5c2ab1",
      "metadata": {
        "id": "dc5c2ab1"
      },
      "outputs": [],
      "source": [
        "embedding_context = generate_embeddings(retrieved_context)"
      ]
    },
    {
      "cell_type": "code",
      "execution_count": 9,
      "id": "bb740605",
      "metadata": {
        "id": "bb740605"
      },
      "outputs": [],
      "source": [
        "embedding_response = generate_embeddings(generated_response)"
      ]
    },
    {
      "cell_type": "code",
      "execution_count": 10,
      "id": "3e1b5e14",
      "metadata": {
        "id": "3e1b5e14"
      },
      "outputs": [],
      "source": [
        "faithfulness_score = cosine_similarity(embedding_response, embedding_context)"
      ]
    },
    {
      "cell_type": "code",
      "execution_count": 11,
      "id": "8c19b160",
      "metadata": {
        "colab": {
          "base_uri": "https://localhost:8080/"
        },
        "id": "8c19b160",
        "outputId": "40b3f866-c224-4010-d6a3-6c87981e0e67"
      },
      "outputs": [
        {
          "output_type": "execute_result",
          "data": {
            "text/plain": [
              "np.float64(0.8813325928340845)"
            ]
          },
          "metadata": {},
          "execution_count": 11
        }
      ],
      "source": [
        "faithfulness_score"
      ]
    },
    {
      "cell_type": "code",
      "execution_count": 12,
      "id": "b0fc3195",
      "metadata": {
        "id": "b0fc3195"
      },
      "outputs": [],
      "source": [
        "relevance_score = cosine_similarity(embedding_response, embedding_query)"
      ]
    },
    {
      "cell_type": "code",
      "execution_count": 13,
      "id": "2773b03b",
      "metadata": {
        "colab": {
          "base_uri": "https://localhost:8080/"
        },
        "id": "2773b03b",
        "outputId": "a37a1f82-95d2-407e-ded0-1b79b7a3fb53"
      },
      "outputs": [
        {
          "output_type": "execute_result",
          "data": {
            "text/plain": [
              "np.float64(0.7778954613210579)"
            ]
          },
          "metadata": {},
          "execution_count": 13
        }
      ],
      "source": [
        "relevance_score"
      ]
    },
    {
      "cell_type": "code",
      "execution_count": null,
      "id": "6d767ed1",
      "metadata": {
        "id": "6d767ed1"
      },
      "outputs": [],
      "source": []
    }
  ],
  "metadata": {
    "kernelspec": {
      "display_name": "lang_graph",
      "language": "python",
      "name": "python3"
    },
    "language_info": {
      "codemirror_mode": {
        "name": "ipython",
        "version": 3
      },
      "file_extension": ".py",
      "mimetype": "text/x-python",
      "name": "python",
      "nbconvert_exporter": "python",
      "pygments_lexer": "ipython3",
      "version": "3.10.18"
    },
    "colab": {
      "provenance": []
    }
  },
  "nbformat": 4,
  "nbformat_minor": 5
}