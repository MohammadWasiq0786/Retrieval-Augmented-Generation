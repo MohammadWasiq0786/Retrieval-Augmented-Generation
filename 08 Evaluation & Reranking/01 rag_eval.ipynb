{
 "cells": [
  {
   "cell_type": "code",
   "execution_count": 3,
   "id": "2431429e",
   "metadata": {},
   "outputs": [],
   "source": [
    "ground_truth = {\"doc_1\", \"doc_3\", \"doc_5\"}"
   ]
  },
  {
   "cell_type": "code",
   "execution_count": 4,
   "id": "af120859",
   "metadata": {},
   "outputs": [],
   "source": [
    "retrieved = {\"doc_1\", \"doc_2\", \"doc_3\"}"
   ]
  },
  {
   "cell_type": "code",
   "execution_count": 5,
   "id": "f1557e57",
   "metadata": {},
   "outputs": [],
   "source": [
    "true_positives = ground_truth & retrieved"
   ]
  },
  {
   "cell_type": "code",
   "execution_count": 6,
   "id": "8f460d44",
   "metadata": {},
   "outputs": [
    {
     "data": {
      "text/plain": [
       "{'doc_1', 'doc_3'}"
      ]
     },
     "execution_count": 6,
     "metadata": {},
     "output_type": "execute_result"
    }
   ],
   "source": [
    "true_positives"
   ]
  },
  {
   "cell_type": "code",
   "execution_count": null,
   "id": "e108c6d2",
   "metadata": {},
   "outputs": [],
   "source": [
    "Precision = |True Positives| / |Retrieved|"
   ]
  },
  {
   "cell_type": "code",
   "execution_count": 7,
   "id": "1cc6908a",
   "metadata": {},
   "outputs": [],
   "source": [
    "Precision = len(true_positives)/len(retrieved)"
   ]
  },
  {
   "cell_type": "code",
   "execution_count": 8,
   "id": "16918e6e",
   "metadata": {},
   "outputs": [
    {
     "data": {
      "text/plain": [
       "0.6666666666666666"
      ]
     },
     "execution_count": 8,
     "metadata": {},
     "output_type": "execute_result"
    }
   ],
   "source": [
    "Precision"
   ]
  },
  {
   "cell_type": "code",
   "execution_count": null,
   "id": "9767e7a3",
   "metadata": {},
   "outputs": [],
   "source": [
    "Recall = |True Positives| / |Ground Truth|"
   ]
  },
  {
   "cell_type": "code",
   "execution_count": 9,
   "id": "6bdef067",
   "metadata": {},
   "outputs": [],
   "source": [
    "Recall =len(true_positives) / len(ground_truth)\n"
   ]
  },
  {
   "cell_type": "code",
   "execution_count": 10,
   "id": "076c3852",
   "metadata": {},
   "outputs": [
    {
     "data": {
      "text/plain": [
       "0.6666666666666666"
      ]
     },
     "execution_count": 10,
     "metadata": {},
     "output_type": "execute_result"
    }
   ],
   "source": [
    "Recall"
   ]
  },
  {
   "cell_type": "code",
   "execution_count": 11,
   "id": "5b40b240",
   "metadata": {},
   "outputs": [],
   "source": [
    "F1 = 2 * (Precision * Recall) / (Precision + Recall)"
   ]
  },
  {
   "cell_type": "code",
   "execution_count": 12,
   "id": "856745f6",
   "metadata": {},
   "outputs": [
    {
     "data": {
      "text/plain": [
       "0.6666666666666666"
      ]
     },
     "execution_count": 12,
     "metadata": {},
     "output_type": "execute_result"
    }
   ],
   "source": [
    "F1"
   ]
  },
  {
   "cell_type": "code",
   "execution_count": 13,
   "id": "bc714a91",
   "metadata": {},
   "outputs": [],
   "source": [
    "retrieved = {\"doc_1\", \"doc_3\", \"doc_5\"}"
   ]
  },
  {
   "cell_type": "code",
   "execution_count": 14,
   "id": "32bb7beb",
   "metadata": {},
   "outputs": [
    {
     "data": {
      "text/plain": [
       "{'doc_1', 'doc_3', 'doc_5'}"
      ]
     },
     "execution_count": 14,
     "metadata": {},
     "output_type": "execute_result"
    }
   ],
   "source": [
    "ground_truth"
   ]
  },
  {
   "cell_type": "code",
   "execution_count": 15,
   "id": "5dfdbbc3",
   "metadata": {},
   "outputs": [],
   "source": [
    "retrieved = {\"doc_7\", \"doc_8\"}"
   ]
  },
  {
   "cell_type": "code",
   "execution_count": null,
   "id": "9d0878bd",
   "metadata": {},
   "outputs": [],
   "source": []
  }
 ],
 "metadata": {
  "kernelspec": {
   "display_name": "lang_graph",
   "language": "python",
   "name": "python3"
  },
  "language_info": {
   "codemirror_mode": {
    "name": "ipython",
    "version": 3
   },
   "file_extension": ".py",
   "mimetype": "text/x-python",
   "name": "python",
   "nbconvert_exporter": "python",
   "pygments_lexer": "ipython3",
   "version": "3.10.18"
  }
 },
 "nbformat": 4,
 "nbformat_minor": 5
}
