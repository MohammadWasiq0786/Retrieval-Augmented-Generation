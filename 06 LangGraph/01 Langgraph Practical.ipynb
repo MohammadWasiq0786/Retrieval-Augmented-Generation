{
  "cells": [
    {
      "cell_type": "code",
      "source": [
        "!pip install -q euriai[langgraph]"
      ],
      "metadata": {
        "colab": {
          "base_uri": "https://localhost:8080/"
        },
        "id": "pMT0S4ZEDznW",
        "outputId": "a55ad657-2d77-4a53-fc84-10779abf4f5c"
      },
      "id": "pMT0S4ZEDznW",
      "execution_count": 1,
      "outputs": [
        {
          "output_type": "stream",
          "name": "stdout",
          "text": [
            "\u001b[2K     \u001b[90m━━━━━━━━━━━━━━━━━━━━━━━━━━━━━━━━━━━━━━━━\u001b[0m \u001b[32m43.7/43.7 kB\u001b[0m \u001b[31m2.6 MB/s\u001b[0m eta \u001b[36m0:00:00\u001b[0m\n",
            "\u001b[2K   \u001b[90m━━━━━━━━━━━━━━━━━━━━━━━━━━━━━━━━━━━━━━━━\u001b[0m \u001b[32m47.9/47.9 kB\u001b[0m \u001b[31m2.9 MB/s\u001b[0m eta \u001b[36m0:00:00\u001b[0m\n",
            "\u001b[2K   \u001b[90m━━━━━━━━━━━━━━━━━━━━━━━━━━━━━━━━━━━━━━━━\u001b[0m \u001b[32m143.9/143.9 kB\u001b[0m \u001b[31m9.5 MB/s\u001b[0m eta \u001b[36m0:00:00\u001b[0m\n",
            "\u001b[2K   \u001b[90m━━━━━━━━━━━━━━━━━━━━━━━━━━━━━━━━━━━━━━━━\u001b[0m \u001b[32m43.9/43.9 kB\u001b[0m \u001b[31m3.1 MB/s\u001b[0m eta \u001b[36m0:00:00\u001b[0m\n",
            "\u001b[2K   \u001b[90m━━━━━━━━━━━━━━━━━━━━━━━━━━━━━━━━━━━━━━━━\u001b[0m \u001b[32m50.3/50.3 kB\u001b[0m \u001b[31m3.7 MB/s\u001b[0m eta \u001b[36m0:00:00\u001b[0m\n",
            "\u001b[2K   \u001b[90m━━━━━━━━━━━━━━━━━━━━━━━━━━━━━━━━━━━━━━━━\u001b[0m \u001b[32m216.5/216.5 kB\u001b[0m \u001b[31m13.1 MB/s\u001b[0m eta \u001b[36m0:00:00\u001b[0m\n",
            "\u001b[?25h"
          ]
        }
      ]
    },
    {
      "cell_type": "code",
      "source": [
        "EURI_API_KEY= \"euri-...\""
      ],
      "metadata": {
        "id": "ZsOT2wISE1da"
      },
      "id": "ZsOT2wISE1da",
      "execution_count": null,
      "outputs": []
    },
    {
      "cell_type": "code",
      "execution_count": 2,
      "id": "fb93d78b",
      "metadata": {
        "colab": {
          "base_uri": "https://localhost:8080/"
        },
        "id": "fb93d78b",
        "outputId": "de2d4b69-2024-4d68-cd0c-3bd6fd7cb348"
      },
      "outputs": [
        {
          "output_type": "stream",
          "name": "stdout",
          "text": [
            "Added AI node: processor (model: gpt-4.1-nano)\n",
            "Set entry point: processor\n",
            "Set finish point: processor\n",
            "Graph compiled successfully\n",
            "\u001b[1m[values]\u001b[0m {'input': 'tell me about data science'}\n",
            "\u001b[1m[updates]\u001b[0m {'processor': {'input': 'tell me about data science', 'processor_output': \"Certainly! Here's a detailed overview of data science:\\n\\n**Data Science Overview**\\n\\n**Definition:**\\nData science is an interdisciplinary field that combines techniques from statistics, mathematics, computer science, and domain expertise to extract meaningful insights and knowledge from structured and unstructured data.\\n\\n**Core Components:**\\n1. **Data Collection:** Gathering raw data from various sources such as databases, web scraping, sensors, or APIs.\\n2. **Data Cleaning and Preprocessing:** Removing errors, handling missing values, and transforming data into a suitable format for analysis.\\n3. **Exploratory Data Analysis (EDA):** Using statistical and visualization tools to understand data patterns, distributions, and relationships.\\n4. **Data Modeling and Algorithms:** Applying machine learning, statistical models, or other computational techniques to make predictions or identify patterns.\\n5. **Data Visualization:** Creating visual representations (charts, dashboards) to communicate findings effectively.\\n6. **Deployment and Monitoring:** Implementing models into production environments and monitoring their performance over time.\\n\\n**Skills Required:**\\n- Programming languages like Python, R, or SQL\\n- Statistical knowledge and mathematical foundations\\n- Data manipulation and analysis skills\\n- Machine learning and AI techniques\\n- Data visualization tools (e.g., Tableau, Power BI)\\n- Domain expertise relevant to the specific data context\\n\\n**Applications of Data Science:**\\n- Business intelligence and decision-making\\n- Fraud detection\\n- Customer segmentation\\n- Recommendation systems\\n- Predictive maintenance\\n- Healthcare analytics\\n- Financial modeling\\n\\n**Career Opportunities:**\\nData science offers roles such as Data Scientist, Data Analyst, Data Engineer, Machine Learning Engineer, and Business Intelligence Analyst.\\n\\n**Importance:**\\nIn an age where data is generated at an unprecedented rate, data science enables organizations to leverage data-driven insights for strategic advantage, innovation, and improved operational efficiency.\\n\\nLet me know if you'd like more specific information on any aspect of data science!\", 'processor_raw_response': \"Certainly! Here's a detailed overview of data science:\\n\\n**Data Science Overview**\\n\\n**Definition:**\\nData science is an interdisciplinary field that combines techniques from statistics, mathematics, computer science, and domain expertise to extract meaningful insights and knowledge from structured and unstructured data.\\n\\n**Core Components:**\\n1. **Data Collection:** Gathering raw data from various sources such as databases, web scraping, sensors, or APIs.\\n2. **Data Cleaning and Preprocessing:** Removing errors, handling missing values, and transforming data into a suitable format for analysis.\\n3. **Exploratory Data Analysis (EDA):** Using statistical and visualization tools to understand data patterns, distributions, and relationships.\\n4. **Data Modeling and Algorithms:** Applying machine learning, statistical models, or other computational techniques to make predictions or identify patterns.\\n5. **Data Visualization:** Creating visual representations (charts, dashboards) to communicate findings effectively.\\n6. **Deployment and Monitoring:** Implementing models into production environments and monitoring their performance over time.\\n\\n**Skills Required:**\\n- Programming languages like Python, R, or SQL\\n- Statistical knowledge and mathematical foundations\\n- Data manipulation and analysis skills\\n- Machine learning and AI techniques\\n- Data visualization tools (e.g., Tableau, Power BI)\\n- Domain expertise relevant to the specific data context\\n\\n**Applications of Data Science:**\\n- Business intelligence and decision-making\\n- Fraud detection\\n- Customer segmentation\\n- Recommendation systems\\n- Predictive maintenance\\n- Healthcare analytics\\n- Financial modeling\\n\\n**Career Opportunities:**\\nData science offers roles such as Data Scientist, Data Analyst, Data Engineer, Machine Learning Engineer, and Business Intelligence Analyst.\\n\\n**Importance:**\\nIn an age where data is generated at an unprecedented rate, data science enables organizations to leverage data-driven insights for strategic advantage, innovation, and improved operational efficiency.\\n\\nLet me know if you'd like more specific information on any aspect of data science!\"}}\n",
            "\u001b[1m[values]\u001b[0m {'input': 'tell me about data science', 'processor_output': \"Certainly! Here's a detailed overview of data science:\\n\\n**Data Science Overview**\\n\\n**Definition:**\\nData science is an interdisciplinary field that combines techniques from statistics, mathematics, computer science, and domain expertise to extract meaningful insights and knowledge from structured and unstructured data.\\n\\n**Core Components:**\\n1. **Data Collection:** Gathering raw data from various sources such as databases, web scraping, sensors, or APIs.\\n2. **Data Cleaning and Preprocessing:** Removing errors, handling missing values, and transforming data into a suitable format for analysis.\\n3. **Exploratory Data Analysis (EDA):** Using statistical and visualization tools to understand data patterns, distributions, and relationships.\\n4. **Data Modeling and Algorithms:** Applying machine learning, statistical models, or other computational techniques to make predictions or identify patterns.\\n5. **Data Visualization:** Creating visual representations (charts, dashboards) to communicate findings effectively.\\n6. **Deployment and Monitoring:** Implementing models into production environments and monitoring their performance over time.\\n\\n**Skills Required:**\\n- Programming languages like Python, R, or SQL\\n- Statistical knowledge and mathematical foundations\\n- Data manipulation and analysis skills\\n- Machine learning and AI techniques\\n- Data visualization tools (e.g., Tableau, Power BI)\\n- Domain expertise relevant to the specific data context\\n\\n**Applications of Data Science:**\\n- Business intelligence and decision-making\\n- Fraud detection\\n- Customer segmentation\\n- Recommendation systems\\n- Predictive maintenance\\n- Healthcare analytics\\n- Financial modeling\\n\\n**Career Opportunities:**\\nData science offers roles such as Data Scientist, Data Analyst, Data Engineer, Machine Learning Engineer, and Business Intelligence Analyst.\\n\\n**Importance:**\\nIn an age where data is generated at an unprecedented rate, data science enables organizations to leverage data-driven insights for strategic advantage, innovation, and improved operational efficiency.\\n\\nLet me know if you'd like more specific information on any aspect of data science!\", 'processor_raw_response': \"Certainly! Here's a detailed overview of data science:\\n\\n**Data Science Overview**\\n\\n**Definition:**\\nData science is an interdisciplinary field that combines techniques from statistics, mathematics, computer science, and domain expertise to extract meaningful insights and knowledge from structured and unstructured data.\\n\\n**Core Components:**\\n1. **Data Collection:** Gathering raw data from various sources such as databases, web scraping, sensors, or APIs.\\n2. **Data Cleaning and Preprocessing:** Removing errors, handling missing values, and transforming data into a suitable format for analysis.\\n3. **Exploratory Data Analysis (EDA):** Using statistical and visualization tools to understand data patterns, distributions, and relationships.\\n4. **Data Modeling and Algorithms:** Applying machine learning, statistical models, or other computational techniques to make predictions or identify patterns.\\n5. **Data Visualization:** Creating visual representations (charts, dashboards) to communicate findings effectively.\\n6. **Deployment and Monitoring:** Implementing models into production environments and monitoring their performance over time.\\n\\n**Skills Required:**\\n- Programming languages like Python, R, or SQL\\n- Statistical knowledge and mathematical foundations\\n- Data manipulation and analysis skills\\n- Machine learning and AI techniques\\n- Data visualization tools (e.g., Tableau, Power BI)\\n- Domain expertise relevant to the specific data context\\n\\n**Applications of Data Science:**\\n- Business intelligence and decision-making\\n- Fraud detection\\n- Customer segmentation\\n- Recommendation systems\\n- Predictive maintenance\\n- Healthcare analytics\\n- Financial modeling\\n\\n**Career Opportunities:**\\nData science offers roles such as Data Scientist, Data Analyst, Data Engineer, Machine Learning Engineer, and Business Intelligence Analyst.\\n\\n**Importance:**\\nIn an age where data is generated at an unprecedented rate, data science enables organizations to leverage data-driven insights for strategic advantage, innovation, and improved operational efficiency.\\n\\nLet me know if you'd like more specific information on any aspect of data science!\"}\n",
            "Workflow completed in 5.72s\n",
            "{'input': 'tell me about data science', 'processor_output': \"Certainly! Here's a detailed overview of data science:\\n\\n**Data Science Overview**\\n\\n**Definition:**\\nData science is an interdisciplinary field that combines techniques from statistics, mathematics, computer science, and domain expertise to extract meaningful insights and knowledge from structured and unstructured data.\\n\\n**Core Components:**\\n1. **Data Collection:** Gathering raw data from various sources such as databases, web scraping, sensors, or APIs.\\n2. **Data Cleaning and Preprocessing:** Removing errors, handling missing values, and transforming data into a suitable format for analysis.\\n3. **Exploratory Data Analysis (EDA):** Using statistical and visualization tools to understand data patterns, distributions, and relationships.\\n4. **Data Modeling and Algorithms:** Applying machine learning, statistical models, or other computational techniques to make predictions or identify patterns.\\n5. **Data Visualization:** Creating visual representations (charts, dashboards) to communicate findings effectively.\\n6. **Deployment and Monitoring:** Implementing models into production environments and monitoring their performance over time.\\n\\n**Skills Required:**\\n- Programming languages like Python, R, or SQL\\n- Statistical knowledge and mathematical foundations\\n- Data manipulation and analysis skills\\n- Machine learning and AI techniques\\n- Data visualization tools (e.g., Tableau, Power BI)\\n- Domain expertise relevant to the specific data context\\n\\n**Applications of Data Science:**\\n- Business intelligence and decision-making\\n- Fraud detection\\n- Customer segmentation\\n- Recommendation systems\\n- Predictive maintenance\\n- Healthcare analytics\\n- Financial modeling\\n\\n**Career Opportunities:**\\nData science offers roles such as Data Scientist, Data Analyst, Data Engineer, Machine Learning Engineer, and Business Intelligence Analyst.\\n\\n**Importance:**\\nIn an age where data is generated at an unprecedented rate, data science enables organizations to leverage data-driven insights for strategic advantage, innovation, and improved operational efficiency.\\n\\nLet me know if you'd like more specific information on any aspect of data science!\", 'processor_raw_response': \"Certainly! Here's a detailed overview of data science:\\n\\n**Data Science Overview**\\n\\n**Definition:**\\nData science is an interdisciplinary field that combines techniques from statistics, mathematics, computer science, and domain expertise to extract meaningful insights and knowledge from structured and unstructured data.\\n\\n**Core Components:**\\n1. **Data Collection:** Gathering raw data from various sources such as databases, web scraping, sensors, or APIs.\\n2. **Data Cleaning and Preprocessing:** Removing errors, handling missing values, and transforming data into a suitable format for analysis.\\n3. **Exploratory Data Analysis (EDA):** Using statistical and visualization tools to understand data patterns, distributions, and relationships.\\n4. **Data Modeling and Algorithms:** Applying machine learning, statistical models, or other computational techniques to make predictions or identify patterns.\\n5. **Data Visualization:** Creating visual representations (charts, dashboards) to communicate findings effectively.\\n6. **Deployment and Monitoring:** Implementing models into production environments and monitoring their performance over time.\\n\\n**Skills Required:**\\n- Programming languages like Python, R, or SQL\\n- Statistical knowledge and mathematical foundations\\n- Data manipulation and analysis skills\\n- Machine learning and AI techniques\\n- Data visualization tools (e.g., Tableau, Power BI)\\n- Domain expertise relevant to the specific data context\\n\\n**Applications of Data Science:**\\n- Business intelligence and decision-making\\n- Fraud detection\\n- Customer segmentation\\n- Recommendation systems\\n- Predictive maintenance\\n- Healthcare analytics\\n- Financial modeling\\n\\n**Career Opportunities:**\\nData science offers roles such as Data Scientist, Data Analyst, Data Engineer, Machine Learning Engineer, and Business Intelligence Analyst.\\n\\n**Importance:**\\nIn an age where data is generated at an unprecedented rate, data science enables organizations to leverage data-driven insights for strategic advantage, innovation, and improved operational efficiency.\\n\\nLet me know if you'd like more specific information on any aspect of data science!\"}\n"
          ]
        }
      ],
      "source": [
        "from euriai.langgraph import EuriaiLangGraph\n",
        "\n",
        "# Create AI-powered workflow with simple setup\n",
        "graph = EuriaiLangGraph(\n",
        "    api_key= EURI_API_KEY,\n",
        "    default_model=\"gpt-4.1-nano\"\n",
        ")\n",
        "\n",
        "# Add AI-powered node with prompt template\n",
        "graph.add_ai_node(\n",
        "    \"processor\",\n",
        "    \"give me a details about input: {input}\"\n",
        ")\n",
        "\n",
        "# Set entry and finish points\n",
        "graph.set_entry_point(\"processor\")\n",
        "graph.set_finish_point(\"processor\")\n",
        "\n",
        "# Run the workflow\n",
        "result = graph.run({\"input\": \"tell me about data science\"})\n",
        "print(result)\n",
        "\n",
        "# Installation\n",
        "# pip install euriai[langgraph]"
      ]
    },
    {
      "cell_type": "code",
      "source": [
        "print(result['input'])\n",
        "\n",
        "print(result['processor_output'])"
      ],
      "metadata": {
        "colab": {
          "base_uri": "https://localhost:8080/"
        },
        "id": "TAbe6ZMpEDNT",
        "outputId": "9d2882b5-1764-42a1-a622-8932ac5fdaae"
      },
      "id": "TAbe6ZMpEDNT",
      "execution_count": 3,
      "outputs": [
        {
          "output_type": "stream",
          "name": "stdout",
          "text": [
            "tell me about data science\n",
            "Certainly! Here's a detailed overview of data science:\n",
            "\n",
            "**Data Science Overview**\n",
            "\n",
            "**Definition:**\n",
            "Data science is an interdisciplinary field that combines techniques from statistics, mathematics, computer science, and domain expertise to extract meaningful insights and knowledge from structured and unstructured data.\n",
            "\n",
            "**Core Components:**\n",
            "1. **Data Collection:** Gathering raw data from various sources such as databases, web scraping, sensors, or APIs.\n",
            "2. **Data Cleaning and Preprocessing:** Removing errors, handling missing values, and transforming data into a suitable format for analysis.\n",
            "3. **Exploratory Data Analysis (EDA):** Using statistical and visualization tools to understand data patterns, distributions, and relationships.\n",
            "4. **Data Modeling and Algorithms:** Applying machine learning, statistical models, or other computational techniques to make predictions or identify patterns.\n",
            "5. **Data Visualization:** Creating visual representations (charts, dashboards) to communicate findings effectively.\n",
            "6. **Deployment and Monitoring:** Implementing models into production environments and monitoring their performance over time.\n",
            "\n",
            "**Skills Required:**\n",
            "- Programming languages like Python, R, or SQL\n",
            "- Statistical knowledge and mathematical foundations\n",
            "- Data manipulation and analysis skills\n",
            "- Machine learning and AI techniques\n",
            "- Data visualization tools (e.g., Tableau, Power BI)\n",
            "- Domain expertise relevant to the specific data context\n",
            "\n",
            "**Applications of Data Science:**\n",
            "- Business intelligence and decision-making\n",
            "- Fraud detection\n",
            "- Customer segmentation\n",
            "- Recommendation systems\n",
            "- Predictive maintenance\n",
            "- Healthcare analytics\n",
            "- Financial modeling\n",
            "\n",
            "**Career Opportunities:**\n",
            "Data science offers roles such as Data Scientist, Data Analyst, Data Engineer, Machine Learning Engineer, and Business Intelligence Analyst.\n",
            "\n",
            "**Importance:**\n",
            "In an age where data is generated at an unprecedented rate, data science enables organizations to leverage data-driven insights for strategic advantage, innovation, and improved operational efficiency.\n",
            "\n",
            "Let me know if you'd like more specific information on any aspect of data science!\n"
          ]
        }
      ]
    },
    {
      "cell_type": "code",
      "source": [
        "display(Markdown(result['input']))\n",
        "display(Markdown(result['processor_output']))"
      ],
      "metadata": {
        "colab": {
          "base_uri": "https://localhost:8080/",
          "height": 672
        },
        "id": "Pa5jfcKVEiDJ",
        "outputId": "2cc4f0c9-c0a8-40bb-c710-44bcf6ed17b5"
      },
      "id": "Pa5jfcKVEiDJ",
      "execution_count": 5,
      "outputs": [
        {
          "output_type": "display_data",
          "data": {
            "text/plain": [
              "<IPython.core.display.Markdown object>"
            ],
            "text/markdown": "tell me about data science"
          },
          "metadata": {}
        },
        {
          "output_type": "display_data",
          "data": {
            "text/plain": [
              "<IPython.core.display.Markdown object>"
            ],
            "text/markdown": "Certainly! Here's a detailed overview of data science:\n\n**Data Science Overview**\n\n**Definition:**\nData science is an interdisciplinary field that combines techniques from statistics, mathematics, computer science, and domain expertise to extract meaningful insights and knowledge from structured and unstructured data.\n\n**Core Components:**\n1. **Data Collection:** Gathering raw data from various sources such as databases, web scraping, sensors, or APIs.\n2. **Data Cleaning and Preprocessing:** Removing errors, handling missing values, and transforming data into a suitable format for analysis.\n3. **Exploratory Data Analysis (EDA):** Using statistical and visualization tools to understand data patterns, distributions, and relationships.\n4. **Data Modeling and Algorithms:** Applying machine learning, statistical models, or other computational techniques to make predictions or identify patterns.\n5. **Data Visualization:** Creating visual representations (charts, dashboards) to communicate findings effectively.\n6. **Deployment and Monitoring:** Implementing models into production environments and monitoring their performance over time.\n\n**Skills Required:**\n- Programming languages like Python, R, or SQL\n- Statistical knowledge and mathematical foundations\n- Data manipulation and analysis skills\n- Machine learning and AI techniques\n- Data visualization tools (e.g., Tableau, Power BI)\n- Domain expertise relevant to the specific data context\n\n**Applications of Data Science:**\n- Business intelligence and decision-making\n- Fraud detection\n- Customer segmentation\n- Recommendation systems\n- Predictive maintenance\n- Healthcare analytics\n- Financial modeling\n\n**Career Opportunities:**\nData science offers roles such as Data Scientist, Data Analyst, Data Engineer, Machine Learning Engineer, and Business Intelligence Analyst.\n\n**Importance:**\nIn an age where data is generated at an unprecedented rate, data science enables organizations to leverage data-driven insights for strategic advantage, innovation, and improved operational efficiency.\n\nLet me know if you'd like more specific information on any aspect of data science!"
          },
          "metadata": {}
        }
      ]
    },
    {
      "cell_type": "code",
      "execution_count": 6,
      "id": "f9401000",
      "metadata": {
        "colab": {
          "base_uri": "https://localhost:8080/"
        },
        "id": "f9401000",
        "outputId": "212f7968-0280-4eed-8d17-382fdcaada32"
      },
      "outputs": [
        {
          "output_type": "execute_result",
          "data": {
            "text/plain": [
              "{'total_runs': 1,\n",
              " 'total_nodes_executed': 0,\n",
              " 'avg_execution_time': 5.71630597114563,\n",
              " 'total_api_calls': 0,\n",
              " 'errors': 0,\n",
              " 'successful_runs': 1,\n",
              " 'ai_nodes': {'processor': {'total_calls': 1,\n",
              "   'total_tokens': 0,\n",
              "   'errors': 0,\n",
              "   'avg_response_time': 5.696521759033203}}}"
            ]
          },
          "metadata": {},
          "execution_count": 6
        }
      ],
      "source": [
        "graph.get_usage_stats()"
      ]
    },
    {
      "cell_type": "code",
      "source": [],
      "metadata": {
        "id": "cGK0uhOyFDq4"
      },
      "id": "cGK0uhOyFDq4",
      "execution_count": null,
      "outputs": []
    }
  ],
  "metadata": {
    "kernelspec": {
      "display_name": "lang_graph",
      "language": "python",
      "name": "python3"
    },
    "language_info": {
      "codemirror_mode": {
        "name": "ipython",
        "version": 3
      },
      "file_extension": ".py",
      "mimetype": "text/x-python",
      "name": "python",
      "nbconvert_exporter": "python",
      "pygments_lexer": "ipython3",
      "version": "3.10.18"
    },
    "colab": {
      "provenance": []
    }
  },
  "nbformat": 4,
  "nbformat_minor": 5
}