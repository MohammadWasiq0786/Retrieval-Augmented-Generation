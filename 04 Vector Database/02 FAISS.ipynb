{
 "cells": [
  {
   "cell_type": "code",
   "execution_count": 9,
   "id": "d4be2893",
   "metadata": {},
   "outputs": [
    {
     "name": "stdout",
     "output_type": "stream",
     "text": [
      "Requirement already satisfied: faiss-cpu in c:\\users\\scl\\anaconda3\\lib\\site-packages (1.10.0)\n",
      "Requirement already satisfied: requests in c:\\users\\scl\\anaconda3\\lib\\site-packages (2.32.3)\n",
      "Requirement already satisfied: numpy<3.0,>=1.25.0 in c:\\users\\scl\\anaconda3\\lib\\site-packages (from faiss-cpu) (1.26.4)\n",
      "Requirement already satisfied: packaging in c:\\users\\scl\\anaconda3\\lib\\site-packages (from faiss-cpu) (23.2)\n",
      "Requirement already satisfied: charset-normalizer<4,>=2 in c:\\users\\scl\\anaconda3\\lib\\site-packages (from requests) (3.3.2)\n",
      "Requirement already satisfied: idna<4,>=2.5 in c:\\users\\scl\\anaconda3\\lib\\site-packages (from requests) (3.7)\n",
      "Requirement already satisfied: urllib3<3,>=1.21.1 in c:\\users\\scl\\anaconda3\\lib\\site-packages (from requests) (2.2.3)\n",
      "Requirement already satisfied: certifi>=2017.4.17 in c:\\users\\scl\\anaconda3\\lib\\site-packages (from requests) (2025.6.15)\n"
     ]
    }
   ],
   "source": [
    "!pip install faiss-cpu requests"
   ]
  },
  {
   "cell_type": "code",
   "execution_count": 10,
   "id": "2a82d58b",
   "metadata": {},
   "outputs": [],
   "source": [
    "import faiss\n",
    "import numpy as np\n",
    "import requests"
   ]
  },
  {
   "cell_type": "code",
   "execution_count": 50,
   "id": "cd06a413",
   "metadata": {},
   "outputs": [],
   "source": [
    "del index"
   ]
  },
  {
   "cell_type": "code",
   "execution_count": 51,
   "id": "f0c89ec4",
   "metadata": {},
   "outputs": [],
   "source": [
    "dataset = [\n",
    "    \"Sudhanshu Kumar was born in Jamshedpur, Jharkhand, India, to a modest family.\",\n",
    "    \"His early life was marked by financial hardship and limited resources.\",\n",
    "    \"He believed education could transform his life and pursued it relentlessly.\",\n",
    "    \"Sudhanshu earned a Computer Science and Engineering degree.\",\n",
    "    \"He worked at Wipro, Deloitte, Verizon Labs, and Ernst & Young.\",\n",
    "    \"He gained expertise in SAP WebDynpro, Fiori UI5 HANA, Java, Big Data, and Data Analytics.\",\n",
    "    \"Sudhanshu remained committed to making education accessible for everyone.\",\n",
    "    \"His teaching empowered countless students to build their careers.\",\n",
    "    \"Many students credit him with changing their lives through affordable learning.\",\n",
    "    \"His journey is a testament to triumph over adversity and the power of knowledge.\"\n",
    "]\n"
   ]
  },
  {
   "cell_type": "code",
   "execution_count": null,
   "id": "e3d1a74c",
   "metadata": {},
   "outputs": [],
   "source": [
    "# Generate embeddings with vector operations\n",
    "import requests\n",
    "import numpy as np\n",
    "EURI_API_KEY= \"euri-.....\"\n",
    "def generate_embeddings(text):\n",
    "    url = \"https://api.euron.one/api/v1/euri/alpha/embeddings\"\n",
    "    headers = {\n",
    "        \"Content-Type\": \"application/json\",\n",
    "        \"Authorization\": f\"Bearer {EURI_API_KEY}\"\n",
    "    }\n",
    "    payload = {\n",
    "        \"input\": text,\n",
    "        \"model\": \"text-embedding-3-small\"\n",
    "    }\n",
    "\n",
    "    response = requests.post(url, headers=headers, json=payload)\n",
    "    data = response.json()\n",
    "    \n",
    "    # Convert to numpy array for vector operations\n",
    "    embedding = np.array(data['data'][0]['embedding'])\n",
    "    \n",
    "    return embedding\n"
   ]
  },
  {
   "cell_type": "code",
   "execution_count": 53,
   "id": "e241338b",
   "metadata": {},
   "outputs": [
    {
     "data": {
      "text/plain": [
       "array([-0.00964424, -0.0254779 , -0.0277286 , ...,  0.00489808,\n",
       "        0.0180506 , -0.00078423], shape=(1536,))"
      ]
     },
     "execution_count": 53,
     "metadata": {},
     "output_type": "execute_result"
    }
   ],
   "source": [
    "generate_embeddings(\"my name is sudhanshu kumar\")"
   ]
  },
  {
   "cell_type": "code",
   "execution_count": 54,
   "id": "542d36e2",
   "metadata": {},
   "outputs": [],
   "source": [
    "embeddings= []\n",
    "for i in  dataset:\n",
    "   emb = generate_embeddings(i)\n",
    "   embeddings.append(emb)"
   ]
  },
  {
   "cell_type": "code",
   "execution_count": 55,
   "id": "1cb07094",
   "metadata": {},
   "outputs": [
    {
     "data": {
      "text/plain": [
       "[array([-0.02541692, -0.01865577,  0.00634901, ..., -0.02143118,\n",
       "         0.01235371,  0.00510738], shape=(1536,)),\n",
       " array([ 0.02540292, -0.0002544 ,  0.02801443, ..., -0.03046351,\n",
       "        -0.0145695 , -0.00296451], shape=(1536,)),\n",
       " array([ 0.001587  , -0.01729287, -0.01732935, ..., -0.02582986,\n",
       "        -0.01732935, -0.03174008], shape=(1536,)),\n",
       " array([-0.00452645, -0.01963622,  0.01436222, ..., -0.0424745 ,\n",
       "         0.03230322,  0.00883512], shape=(1536,)),\n",
       " array([-0.03281466, -0.00356642,  0.017823  , ..., -0.01445926,\n",
       "         0.01466496, -0.01732691], shape=(1536,)),\n",
       " array([-0.05149938,  0.00695922,  0.06715338, ..., -0.0353009 ,\n",
       "         0.00894433, -0.0073449 ], shape=(1536,)),\n",
       " array([-0.00579057,  0.00271029,  0.04456783, ...,  0.0159549 ,\n",
       "         0.00164392, -0.00090393], shape=(1536,)),\n",
       " array([ 0.04490583, -0.02969062,  0.02145419, ..., -0.04722387,\n",
       "        -0.02574502, -0.01600433], shape=(1536,)),\n",
       " array([-0.02983718, -0.04339701,  0.00524785, ..., -0.00930332,\n",
       "        -0.02247494,  0.0097054 ], shape=(1536,)),\n",
       " array([ 0.03265457, -0.00283638, -0.00402452, ...,  0.01120394,\n",
       "        -0.05085592, -0.01056352], shape=(1536,))]"
      ]
     },
     "execution_count": 55,
     "metadata": {},
     "output_type": "execute_result"
    }
   ],
   "source": [
    "embeddings"
   ]
  },
  {
   "cell_type": "code",
   "execution_count": 56,
   "id": "9934f201",
   "metadata": {},
   "outputs": [
    {
     "data": {
      "text/plain": [
       "1536"
      ]
     },
     "execution_count": 56,
     "metadata": {},
     "output_type": "execute_result"
    }
   ],
   "source": [
    "len(embeddings[0])"
   ]
  },
  {
   "cell_type": "code",
   "execution_count": 57,
   "id": "df76a2ff",
   "metadata": {},
   "outputs": [],
   "source": [
    "embeddings_arrary = np.vstack(embeddings)"
   ]
  },
  {
   "cell_type": "code",
   "execution_count": 58,
   "id": "04a5db9a",
   "metadata": {},
   "outputs": [
    {
     "data": {
      "text/plain": [
       "array([[-0.02541692, -0.01865577,  0.00634901, ..., -0.02143118,\n",
       "         0.01235371,  0.00510738],\n",
       "       [ 0.02540292, -0.0002544 ,  0.02801443, ..., -0.03046351,\n",
       "        -0.0145695 , -0.00296451],\n",
       "       [ 0.001587  , -0.01729287, -0.01732935, ..., -0.02582986,\n",
       "        -0.01732935, -0.03174008],\n",
       "       ...,\n",
       "       [ 0.04490583, -0.02969062,  0.02145419, ..., -0.04722387,\n",
       "        -0.02574502, -0.01600433],\n",
       "       [-0.02983718, -0.04339701,  0.00524785, ..., -0.00930332,\n",
       "        -0.02247494,  0.0097054 ],\n",
       "       [ 0.03265457, -0.00283638, -0.00402452, ...,  0.01120394,\n",
       "        -0.05085592, -0.01056352]], shape=(10, 1536))"
      ]
     },
     "execution_count": 58,
     "metadata": {},
     "output_type": "execute_result"
    }
   ],
   "source": [
    "embeddings_arrary"
   ]
  },
  {
   "cell_type": "code",
   "execution_count": 59,
   "id": "b20572f2",
   "metadata": {},
   "outputs": [],
   "source": [
    "dimension = embeddings_arrary.shape[1]\n",
    "index = faiss.IndexFlatL2(dimension)"
   ]
  },
  {
   "cell_type": "code",
   "execution_count": 60,
   "id": "3d0efbc8",
   "metadata": {},
   "outputs": [
    {
     "data": {
      "text/plain": [
       "<faiss.swigfaiss_avx2.IndexFlatL2; proxy of <Swig Object of type 'faiss::IndexFlatL2 *' at 0x000001DFB42196B0> >"
      ]
     },
     "execution_count": 60,
     "metadata": {},
     "output_type": "execute_result"
    }
   ],
   "source": [
    "index"
   ]
  },
  {
   "cell_type": "code",
   "execution_count": 61,
   "id": "d9be8c3c",
   "metadata": {},
   "outputs": [],
   "source": [
    "index.add(embeddings_arrary)"
   ]
  },
  {
   "cell_type": "code",
   "execution_count": 62,
   "id": "a7cb3f60",
   "metadata": {},
   "outputs": [
    {
     "data": {
      "text/plain": [
       "10"
      ]
     },
     "execution_count": 62,
     "metadata": {},
     "output_type": "execute_result"
    }
   ],
   "source": [
    "index.ntotal"
   ]
  },
  {
   "cell_type": "code",
   "execution_count": 63,
   "id": "a4c5beb5",
   "metadata": {},
   "outputs": [],
   "source": [
    "text = \"my name is sudhanshu kumar i use to teach tech\""
   ]
  },
  {
   "cell_type": "code",
   "execution_count": 64,
   "id": "de99d363",
   "metadata": {},
   "outputs": [],
   "source": [
    "new_data = generate_embeddings(text).reshape(1,-1)"
   ]
  },
  {
   "cell_type": "code",
   "execution_count": 65,
   "id": "545eeeb5",
   "metadata": {},
   "outputs": [
    {
     "data": {
      "text/plain": [
       "array([[-0.02793127, -0.0378635 , -0.01753267, ..., -0.00761934,\n",
       "         0.01803684, -0.02036865]], shape=(1, 1536))"
      ]
     },
     "execution_count": 65,
     "metadata": {},
     "output_type": "execute_result"
    }
   ],
   "source": [
    "new_data"
   ]
  },
  {
   "cell_type": "code",
   "execution_count": 66,
   "id": "e28b5bcf",
   "metadata": {},
   "outputs": [],
   "source": [
    "index.add(new_data)"
   ]
  },
  {
   "cell_type": "code",
   "execution_count": 67,
   "id": "6d615436",
   "metadata": {},
   "outputs": [
    {
     "data": {
      "text/plain": [
       "11"
      ]
     },
     "execution_count": 67,
     "metadata": {},
     "output_type": "execute_result"
    }
   ],
   "source": [
    "index.ntotal"
   ]
  },
  {
   "cell_type": "code",
   "execution_count": 68,
   "id": "d50f6190",
   "metadata": {},
   "outputs": [],
   "source": [
    "faiss.write_index(index,\"sudhanshu_personal.faiss\")"
   ]
  },
  {
   "cell_type": "code",
   "execution_count": 69,
   "id": "8d999948",
   "metadata": {},
   "outputs": [],
   "source": [
    "query = \"who is sudhanshu kumar\""
   ]
  },
  {
   "cell_type": "code",
   "execution_count": 70,
   "id": "3627d54c",
   "metadata": {},
   "outputs": [],
   "source": [
    "qeury_vec = generate_embeddings(query).reshape(1,-1)"
   ]
  },
  {
   "cell_type": "code",
   "execution_count": 71,
   "id": "49af0df8",
   "metadata": {},
   "outputs": [
    {
     "data": {
      "text/plain": [
       "array([[-0.02782764, -0.02935768, -0.01452345, ...,  0.01749986,\n",
       "         0.03294371,  0.00630545]], shape=(1, 1536))"
      ]
     },
     "execution_count": 71,
     "metadata": {},
     "output_type": "execute_result"
    }
   ],
   "source": [
    "qeury_vec"
   ]
  },
  {
   "cell_type": "code",
   "execution_count": 82,
   "id": "e407ee8b",
   "metadata": {},
   "outputs": [],
   "source": [
    "distance , indices = index.search(qeury_vec ,6)"
   ]
  },
  {
   "cell_type": "code",
   "execution_count": 83,
   "id": "20f32699",
   "metadata": {},
   "outputs": [
    {
     "data": {
      "text/plain": [
       "array([[0.6484784 , 0.88970953, 0.96139395, 1.0492306 , 1.6094193 ,\n",
       "        1.6728487 ]], dtype=float32)"
      ]
     },
     "execution_count": 83,
     "metadata": {},
     "output_type": "execute_result"
    }
   ],
   "source": [
    "distance"
   ]
  },
  {
   "cell_type": "code",
   "execution_count": 84,
   "id": "dad84de2",
   "metadata": {},
   "outputs": [
    {
     "data": {
      "text/plain": [
       "array([[ 0, 10,  3,  6,  5,  4]])"
      ]
     },
     "execution_count": 84,
     "metadata": {},
     "output_type": "execute_result"
    }
   ],
   "source": [
    "indices"
   ]
  },
  {
   "cell_type": "code",
   "execution_count": 78,
   "id": "36115bf0",
   "metadata": {},
   "outputs": [
    {
     "data": {
      "text/plain": [
       "'Sudhanshu Kumar was born in Jamshedpur, Jharkhand, India, to a modest family.'"
      ]
     },
     "execution_count": 78,
     "metadata": {},
     "output_type": "execute_result"
    }
   ],
   "source": [
    "dataset[0]"
   ]
  },
  {
   "cell_type": "code",
   "execution_count": 85,
   "id": "5a3bd0a0",
   "metadata": {},
   "outputs": [
    {
     "data": {
      "text/plain": [
       "'Sudhanshu earned a Computer Science and Engineering degree.'"
      ]
     },
     "execution_count": 85,
     "metadata": {},
     "output_type": "execute_result"
    }
   ],
   "source": [
    "dataset[3]"
   ]
  },
  {
   "cell_type": "code",
   "execution_count": 86,
   "id": "7a31165b",
   "metadata": {},
   "outputs": [
    {
     "data": {
      "text/plain": [
       "'Sudhanshu remained committed to making education accessible for everyone.'"
      ]
     },
     "execution_count": 86,
     "metadata": {},
     "output_type": "execute_result"
    }
   ],
   "source": [
    "dataset[6]"
   ]
  },
  {
   "cell_type": "code",
   "execution_count": null,
   "id": "d95dbec2",
   "metadata": {},
   "outputs": [],
   "source": []
  }
 ],
 "metadata": {
  "kernelspec": {
   "display_name": "agentdemo",
   "language": "python",
   "name": "python3"
  },
  "language_info": {
   "codemirror_mode": {
    "name": "ipython",
    "version": 3
   },
   "file_extension": ".py",
   "mimetype": "text/x-python",
   "name": "python",
   "nbconvert_exporter": "python",
   "pygments_lexer": "ipython3",
   "version": "3.11.11"
  }
 },
 "nbformat": 4,
 "nbformat_minor": 5
}
