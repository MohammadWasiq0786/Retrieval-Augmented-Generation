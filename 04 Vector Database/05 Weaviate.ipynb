{
 "cells": [
  {
   "cell_type": "markdown",
   "id": "cd4d6b95",
   "metadata": {},
   "source": [
    "http://weaviate.io/"
   ]
  },
  {
   "cell_type": "markdown",
   "id": "4bbc28e2",
   "metadata": {},
   "source": [
    "hbogbovyrtol3imqj7ohg.c0.asia-southeast1.gcp.weaviate.cloud"
   ]
  },
  {
   "cell_type": "code",
   "execution_count": 1,
   "id": "16a6a651",
   "metadata": {},
   "outputs": [
    {
     "name": "stdout",
     "output_type": "stream",
     "text": [
      "Requirement already satisfied: weaviate-client==3.26.1 in c:\\users\\scl\\anaconda3\\envs\\assignment_grader\\lib\\site-packages (3.26.1)\n",
      "Requirement already satisfied: requests<3.0.0,>=2.30.0 in c:\\users\\scl\\anaconda3\\envs\\assignment_grader\\lib\\site-packages (from weaviate-client==3.26.1) (2.32.3)\n",
      "Requirement already satisfied: validators<1.0.0,>=0.21.2 in c:\\users\\scl\\anaconda3\\envs\\assignment_grader\\lib\\site-packages (from weaviate-client==3.26.1) (0.34.0)\n",
      "Requirement already satisfied: authlib<2.0.0,>=1.2.1 in c:\\users\\scl\\anaconda3\\envs\\assignment_grader\\lib\\site-packages (from weaviate-client==3.26.1) (1.6.0)\n",
      "Requirement already satisfied: cryptography in c:\\users\\scl\\anaconda3\\envs\\assignment_grader\\lib\\site-packages (from authlib<2.0.0,>=1.2.1->weaviate-client==3.26.1) (45.0.5)\n",
      "Requirement already satisfied: charset-normalizer<4,>=2 in c:\\users\\scl\\anaconda3\\envs\\assignment_grader\\lib\\site-packages (from requests<3.0.0,>=2.30.0->weaviate-client==3.26.1) (3.4.1)\n",
      "Requirement already satisfied: idna<4,>=2.5 in c:\\users\\scl\\anaconda3\\envs\\assignment_grader\\lib\\site-packages (from requests<3.0.0,>=2.30.0->weaviate-client==3.26.1) (3.10)\n",
      "Requirement already satisfied: urllib3<3,>=1.21.1 in c:\\users\\scl\\anaconda3\\envs\\assignment_grader\\lib\\site-packages (from requests<3.0.0,>=2.30.0->weaviate-client==3.26.1) (2.4.0)\n",
      "Requirement already satisfied: certifi>=2017.4.17 in c:\\users\\scl\\anaconda3\\envs\\assignment_grader\\lib\\site-packages (from requests<3.0.0,>=2.30.0->weaviate-client==3.26.1) (2025.1.31)\n",
      "Requirement already satisfied: cffi>=1.14 in c:\\users\\scl\\anaconda3\\envs\\assignment_grader\\lib\\site-packages (from cryptography->authlib<2.0.0,>=1.2.1->weaviate-client==3.26.1) (1.17.1)\n",
      "Requirement already satisfied: pycparser in c:\\users\\scl\\anaconda3\\envs\\assignment_grader\\lib\\site-packages (from cffi>=1.14->cryptography->authlib<2.0.0,>=1.2.1->weaviate-client==3.26.1) (2.22)\n",
      "Note: you may need to restart the kernel to use updated packages.\n"
     ]
    }
   ],
   "source": [
    "pip install weaviate-client==3.26.1"
   ]
  },
  {
   "cell_type": "code",
   "execution_count": 1,
   "id": "a63e9bf5",
   "metadata": {},
   "outputs": [],
   "source": [
    "import weaviate"
   ]
  },
  {
   "cell_type": "code",
   "execution_count": 1,
   "id": "4ba6a639",
   "metadata": {},
   "outputs": [
    {
     "data": {
      "text/plain": [
       "'WEAVIATE'"
      ]
     },
     "execution_count": 1,
     "metadata": {},
     "output_type": "execute_result"
    }
   ],
   "source": [
    "\"weaviate\".upper()"
   ]
  },
  {
   "cell_type": "code",
   "execution_count": null,
   "id": "36fd501f",
   "metadata": {},
   "outputs": [
    {
     "name": "stdout",
     "output_type": "stream",
     "text": [
      "Is ready? True\n"
     ]
    },
    {
     "name": "stderr",
     "output_type": "stream",
     "text": [
      "c:\\Users\\scl\\anaconda3\\envs\\assignment_grader\\lib\\site-packages\\weaviate\\warnings.py:121: DeprecationWarning: Dep005: You are using weaviate-client version 3.26.1. The latest version is 4.15.4.\n",
      "            Please consider upgrading to the latest version. See https://weaviate.io/developers/weaviate/client-libraries/python for details.\n",
      "  warnings.warn(\n"
     ]
    }
   ],
   "source": [
    "WEAVIATE_URL= \"https://hbogbovyrto...\"\n",
    "WEAVIATE_API_KEY= \"UVB2cmNBbnY5W...\"\n",
    "\n",
    "\n",
    "client = weaviate.Client(\n",
    "    url= WEAVIATE_URL,\n",
    "    auth_client_secret=weaviate.AuthApiKey(WEAVIATE_API_KEY)\n",
    ")\n",
    "\n",
    "print(\"Is ready?\", client.is_ready())"
   ]
  },
  {
   "cell_type": "code",
   "execution_count": null,
   "id": "0ad28e72",
   "metadata": {},
   "outputs": [],
   "source": [
    "# Generate embeddings with vector operations\n",
    "import requests\n",
    "import numpy as np\n",
    "\n",
    "EURI_API_KEY= \"euri-...\"\n",
    "\n",
    "def generate_embeddings(text):\n",
    "    url = \"https://api.euron.one/api/v1/euri/alpha/embeddings\"\n",
    "    headers = {\n",
    "        \"Content-Type\": \"application/json\",\n",
    "        \"Authorization\": f\"Bearer {EURI_API_KEY}\"\n",
    "    }\n",
    "    payload = {\n",
    "        \"input\": text,\n",
    "        \"model\": \"text-embedding-3-small\"\n",
    "    }\n",
    "\n",
    "    response = requests.post(url, headers=headers, json=payload)\n",
    "    data = response.json()\n",
    "    \n",
    "    # Convert to numpy array for vector operations\n",
    "    embedding = np.array(data['data'][0]['embedding'])\n",
    "    \n",
    "    return embedding"
   ]
  },
  {
   "cell_type": "code",
   "execution_count": 4,
   "id": "0724dd3e",
   "metadata": {},
   "outputs": [
    {
     "name": "stdout",
     "output_type": "stream",
     "text": [
      "Schema created.\n"
     ]
    }
   ],
   "source": [
    "schema = {\n",
    "    \"class\": \"euron\",\n",
    "    \"vectorizer\": \"none\",\n",
    "    \"properties\": [\n",
    "        {\"name\": \"text\", \"dataType\": [\"text\"]}\n",
    "    ]\n",
    "}\n",
    "client.schema.create_class(schema)\n",
    "print(\"Schema created.\")"
   ]
  },
  {
   "cell_type": "code",
   "execution_count": 4,
   "id": "04d03787",
   "metadata": {},
   "outputs": [],
   "source": [
    "text = \"euron is a comapny which work for upskilling domain in tech\"\n",
    "embedding = generate_embeddings(text)"
   ]
  },
  {
   "cell_type": "code",
   "execution_count": 5,
   "id": "56704fdb",
   "metadata": {},
   "outputs": [
    {
     "data": {
      "text/plain": [
       "array([-0.03520687, -0.00826486,  0.05254519, ..., -0.00445388,\n",
       "       -0.02692212, -0.01443535], shape=(1536,))"
      ]
     },
     "execution_count": 5,
     "metadata": {},
     "output_type": "execute_result"
    }
   ],
   "source": [
    "embedding"
   ]
  },
  {
   "cell_type": "code",
   "execution_count": 6,
   "id": "514e274c",
   "metadata": {},
   "outputs": [
    {
     "data": {
      "text/plain": [
       "'114f36b3-9abc-48cc-a668-d1794ed0a707'"
      ]
     },
     "execution_count": 6,
     "metadata": {},
     "output_type": "execute_result"
    }
   ],
   "source": [
    "client.data_object.create(\n",
    "    data_object={'text':text},\n",
    "    class_name=\"euron\",\n",
    "    vector=embedding\n",
    "    \n",
    ")"
   ]
  },
  {
   "cell_type": "code",
   "execution_count": 7,
   "id": "b590bb30",
   "metadata": {},
   "outputs": [
    {
     "data": {
      "text/plain": [
       "'a4b49bca-a469-4177-9cf6-baf529289991'"
      ]
     },
     "execution_count": 7,
     "metadata": {},
     "output_type": "execute_result"
    }
   ],
   "source": [
    "client.data_object.create(\n",
    "    data_object={'text':\"my name is sudhanshu\"},\n",
    "    class_name=\"euron\",\n",
    "    vector=generate_embeddings(\"my name is sudhanshu\")\n",
    "    \n",
    ")"
   ]
  },
  {
   "cell_type": "code",
   "execution_count": 8,
   "id": "a63d7746",
   "metadata": {},
   "outputs": [
    {
     "data": {
      "text/plain": [
       "'dfa3d47d-1f79-4c10-a2ae-f2723b8296e0'"
      ]
     },
     "execution_count": 8,
     "metadata": {},
     "output_type": "execute_result"
    }
   ],
   "source": [
    "client.data_object.create(\n",
    "    data_object={'text':\"i work for euron\"},\n",
    "    class_name=\"euron\",\n",
    "    vector=generate_embeddings(\"i work for euron\")\n",
    "    \n",
    ")"
   ]
  },
  {
   "cell_type": "code",
   "execution_count": 9,
   "id": "2b70c84c",
   "metadata": {},
   "outputs": [],
   "source": [
    "query = \"euron is a comapny\""
   ]
  },
  {
   "cell_type": "code",
   "execution_count": 10,
   "id": "ad5f0b25",
   "metadata": {},
   "outputs": [],
   "source": [
    "emberring_query = generate_embeddings(query)"
   ]
  },
  {
   "cell_type": "code",
   "execution_count": 11,
   "id": "ca8dec73",
   "metadata": {},
   "outputs": [
    {
     "data": {
      "text/plain": [
       "{'data': {'Get': {'Euron': [{'text': 'euron is a comapny which work for upskilling domain in tech'},\n",
       "    {'text': 'i work for euron'}]}}}"
      ]
     },
     "execution_count": 11,
     "metadata": {},
     "output_type": "execute_result"
    }
   ],
   "source": [
    "client.query.get(\"euron\" , [\"text\"]).with_near_vector({\"vector\" :emberring_query }).with_limit(2).do()"
   ]
  },
  {
   "cell_type": "code",
   "execution_count": null,
   "id": "4840c490",
   "metadata": {},
   "outputs": [],
   "source": []
  }
 ],
 "metadata": {
  "kernelspec": {
   "display_name": "Python 3",
   "language": "python",
   "name": "python3"
  },
  "language_info": {
   "codemirror_mode": {
    "name": "ipython",
    "version": 3
   },
   "file_extension": ".py",
   "mimetype": "text/x-python",
   "name": "python",
   "nbconvert_exporter": "python",
   "pygments_lexer": "ipython3",
   "version": "3.10.0"
  }
 },
 "nbformat": 4,
 "nbformat_minor": 5
}
