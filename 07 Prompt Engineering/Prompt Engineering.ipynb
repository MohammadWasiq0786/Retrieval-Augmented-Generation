{
  "cells": [
    {
      "cell_type": "code",
      "source": [
        "EURI_API_KEY= \"euri-.....\""
      ],
      "metadata": {
        "id": "Ewl8oYzMGmns"
      },
      "id": "Ewl8oYzMGmns",
      "execution_count": 1,
      "outputs": []
    },
    {
      "cell_type": "code",
      "execution_count": 3,
      "id": "83d6b41b",
      "metadata": {
        "colab": {
          "base_uri": "https://localhost:8080/"
        },
        "id": "83d6b41b",
        "outputId": "49a6cd5c-f93c-434b-8289-0f93309acbcc"
      },
      "outputs": [
        {
          "output_type": "stream",
          "name": "stdout",
          "text": [
            "Answer:\n",
            " LangGraph is a Python framework designed for building stateful, multi-step AI agents using a graph-based architecture. It extends LangChain by enabling developers to define nodes (which can be functions or LLM calls) and edges (which specify the logic for transitioning between nodes). LangGraph supports features such as looping, branching, and conditional logic, making it suitable for complex workflows like multi-agent collaboration, document processing, and tool integration. Its core components include nodes, edges, shared state, and seamless integration with LangChain tools, allowing for dynamic task management, reasoning, memory sharing, and multi-step planning.\n",
            "None\n"
          ]
        }
      ],
      "source": [
        "import requests\n",
        "\n",
        "def generate_completion_with_context():\n",
        "    url = \"https://api.euron.one/api/v1/euri/chat/completions\"\n",
        "    headers = {\n",
        "        \"Content-Type\": \"application/json\",\n",
        "        \"Authorization\": f\"Bearer {EURI_API_KEY}\"\n",
        "    }\n",
        "\n",
        "    retrieved_docs = \"\"\"\n",
        "    LangGraph is a Python framework for building stateful, multi-step AI agents using a graph-based architecture.\n",
        "    It extends LangChain by allowing developers to define nodes (functions or LLM calls) and edges (logic) between them.\n",
        "    LangGraph supports looping, branching, and conditional logic, making it suitable for complex workflows such as multi-agent collaboration, document workflows, and tool usage.\n",
        "\n",
        "    Core components of LangGraph:\n",
        "    - Nodes: represent computation steps (e.g., function, LLM call)\n",
        "    - Edges: define the transition logic\n",
        "    - State: shared memory between nodes\n",
        "    - Integration: Works seamlessly with LangChain tools, retrievers, agents\n",
        "\n",
        "    LangGraph is ideal for scenarios requiring dynamic task management, reasoning, memory sharing, and multi-step planning.\n",
        "    \"\"\"\n",
        "\n",
        "    prompt = f\"\"\"\n",
        "   You are a helpful assistant. Only use the provided context to answer the question. Do not rely on prior knowledge.\n",
        "\n",
        "    Context:\n",
        "    {retrieved_docs}\n",
        "\n",
        "    Question:\n",
        "    What is LangGraph?\n",
        "    \"\"\"\n",
        "\n",
        "    payload = {\n",
        "        \"messages\": [\n",
        "            {\n",
        "                \"role\": \"user\",\n",
        "                \"content\": prompt.strip()\n",
        "            }\n",
        "        ],\n",
        "        \"model\": \"gpt-4.1-nano\",\n",
        "        \"max_tokens\": 500,\n",
        "        \"temperature\": 0.5\n",
        "    }\n",
        "\n",
        "    response = requests.post(url, headers=headers, json=payload)\n",
        "    data = response.json()\n",
        "\n",
        "    if \"choices\" in data:\n",
        "        print(\"Answer:\\n\", data[\"choices\"][0][\"message\"][\"content\"])\n",
        "    else:\n",
        "        print(\"Error:\", data)\n",
        "\n",
        "print(generate_completion_with_context())\n"
      ]
    },
    {
      "cell_type": "code",
      "execution_count": 4,
      "id": "f78ba8ef",
      "metadata": {
        "colab": {
          "base_uri": "https://localhost:8080/"
        },
        "id": "f78ba8ef",
        "outputId": "d068e39a-b656-419c-ee2a-586b06a9bc6d"
      },
      "outputs": [
        {
          "output_type": "stream",
          "name": "stdout",
          "text": [
            "Answer:\n",
            " LangGraph is a framework or system designed to represent and process language data using graph-based structures. It leverages graphs—comprising nodes and edges—to model linguistic elements such as words, phrases, syntax, and semantics, enabling more effective analysis and understanding of natural language. \n",
            "\n",
            "Depending on the context, LangGraph can be used for tasks like semantic parsing, knowledge graph construction from language data, or enhancing natural language understanding in AI applications. If you have a specific implementation or version of LangGraph in mind, please provide more details so I can offer a more tailored explanation.\n",
            "None\n"
          ]
        }
      ],
      "source": [
        "\n",
        "import requests\n",
        "\n",
        "def generate_completion_with_context():\n",
        "    url = \"https://api.euron.one/api/v1/euri/chat/completions\"\n",
        "    headers = {\n",
        "        \"Content-Type\": \"application/json\",\n",
        "        \"Authorization\": f\"Bearer {EURI_API_KEY}\"\n",
        "    }\n",
        "\n",
        "    retrieved_docs = \"\"\"\n",
        "    LangGraph is a Python framework for building stateful, multi-step AI agents using a graph-based architecture.\n",
        "    It extends LangChain by allowing developers to define nodes (functions or LLM calls) and edges (logic) between them.\n",
        "    LangGraph supports looping, branching, and conditional logic, making it suitable for complex workflows such as multi-agent collaboration, document workflows, and tool usage.\n",
        "\n",
        "    Core components of LangGraph:\n",
        "    - Nodes: represent computation steps (e.g., function, LLM call)\n",
        "    - Edges: define the transition logic\n",
        "    - State: shared memory between nodes\n",
        "    - Integration: Works seamlessly with LangChain tools, retrievers, agents\n",
        "\n",
        "    LangGraph is ideal for scenarios requiring dynamic task management, reasoning, memory sharing, and multi-step planning.\n",
        "    \"\"\"\n",
        "\n",
        "    prompt = f\"\"\"what is langgraph?\"\"\"\n",
        "\n",
        "    payload = {\n",
        "        \"messages\": [\n",
        "            {\n",
        "                \"role\": \"user\",\n",
        "                \"content\": prompt.strip()\n",
        "            }\n",
        "        ],\n",
        "        \"model\": \"gpt-4.1-nano\",\n",
        "        \"max_tokens\": 500,\n",
        "        \"temperature\": 0.5\n",
        "    }\n",
        "\n",
        "    response = requests.post(url, headers=headers, json=payload)\n",
        "    data = response.json()\n",
        "\n",
        "    if \"choices\" in data:\n",
        "        print(\"Answer:\\n\", data[\"choices\"][0][\"message\"][\"content\"])\n",
        "    else:\n",
        "        print(\"Error:\", data)\n",
        "\n",
        "print(generate_completion_with_context())\n"
      ]
    },
    {
      "cell_type": "markdown",
      "id": "ccfea0c8",
      "metadata": {
        "id": "ccfea0c8"
      },
      "source": [
        "System Instruction Prompts\n",
        "Define model role + scope clearly."
      ]
    },
    {
      "cell_type": "code",
      "execution_count": null,
      "id": "8f6a068b",
      "metadata": {
        "id": "8f6a068b"
      },
      "outputs": [],
      "source": []
    },
    {
      "cell_type": "code",
      "execution_count": 5,
      "id": "c911ebcd",
      "metadata": {
        "colab": {
          "base_uri": "https://localhost:8080/",
          "height": 35
        },
        "id": "c911ebcd",
        "outputId": "9aa5367f-2577-457b-ad1c-cb0cfadf7030"
      },
      "outputs": [
        {
          "output_type": "execute_result",
          "data": {
            "text/plain": [
              "'You are a helpful assistant. Only use the provided context to answer the question. Do not rely on prior knowledge.'"
            ],
            "application/vnd.google.colaboratory.intrinsic+json": {
              "type": "string"
            }
          },
          "metadata": {},
          "execution_count": 5
        }
      ],
      "source": [
        "\"You are a helpful assistant. Only use the provided context to answer the question. Do not rely on prior knowledge.\""
      ]
    },
    {
      "cell_type": "code",
      "execution_count": 6,
      "id": "c067a043",
      "metadata": {
        "colab": {
          "base_uri": "https://localhost:8080/",
          "height": 35
        },
        "id": "c067a043",
        "outputId": "367c9b99-0ed3-43b2-e3c1-b42df0197ea5"
      },
      "outputs": [
        {
          "output_type": "execute_result",
          "data": {
            "text/plain": [
              "'Act as a legal AI advisor. Use only the retrieved legal documents to answer the query, citing the context explicit'"
            ],
            "application/vnd.google.colaboratory.intrinsic+json": {
              "type": "string"
            }
          },
          "metadata": {},
          "execution_count": 6
        }
      ],
      "source": [
        "\"Act as a legal AI advisor. Use only the retrieved legal documents to answer the query, citing the context explicit\""
      ]
    },
    {
      "cell_type": "code",
      "execution_count": 7,
      "id": "8af1c260",
      "metadata": {
        "colab": {
          "base_uri": "https://localhost:8080/",
          "height": 35
        },
        "id": "8af1c260",
        "outputId": "e450db93-78a2-4807-af04-15fc082d6e94"
      },
      "outputs": [
        {
          "output_type": "execute_result",
          "data": {
            "text/plain": [
              "'You are a technical product assistant. Explain concepts using only the documents retrieved, avoiding assumptions or guesses.'"
            ],
            "application/vnd.google.colaboratory.intrinsic+json": {
              "type": "string"
            }
          },
          "metadata": {},
          "execution_count": 7
        }
      ],
      "source": [
        "\"You are a technical product assistant. Explain concepts using only the documents retrieved, avoiding assumptions or guesses.\""
      ]
    },
    {
      "cell_type": "markdown",
      "id": "8495fa9e",
      "metadata": {
        "id": "8495fa9e"
      },
      "source": [
        "Few-Shot Prompting with Context"
      ]
    },
    {
      "cell_type": "code",
      "execution_count": 8,
      "id": "6785c489",
      "metadata": {
        "colab": {
          "base_uri": "https://localhost:8080/"
        },
        "id": "6785c489",
        "outputId": "7210e9fd-2303-4fd0-ab4a-2a373434794e"
      },
      "outputs": [
        {
          "output_type": "stream",
          "name": "stdout",
          "text": [
            "Answer:\n",
            " LangGraph is a Python framework designed for building stateful, multi-step AI agents using a graph-based architecture. It extends LangChain by enabling developers to define nodes (which can be functions or LLM calls) and edges (which specify the logic and flow between nodes). LangGraph supports features such as looping, branching, and conditional logic, making it suitable for complex workflows like multi-agent collaboration, document processing, and tool integration. Its core components include nodes, edges, shared state, and seamless integration with LangChain tools, allowing for dynamic task management, reasoning, and multi-step planning.\n"
          ]
        }
      ],
      "source": [
        "import requests\n",
        "\n",
        "def generate_completion_with_context():\n",
        "    url = \"https://api.euron.one/api/v1/euri/chat/completions\"\n",
        "    headers = {\n",
        "        \"Content-Type\": \"application/json\",\n",
        "        \"Authorization\": f\"Bearer {EURI_API_KEY}\"\n",
        "    }\n",
        "\n",
        "    retrieved_docs = \"\"\"\n",
        "    LangGraph is a Python framework for building stateful, multi-step AI agents using a graph-based architecture.\n",
        "    It extends LangChain by allowing developers to define nodes (functions or LLM calls) and edges (logic) between them.\n",
        "    LangGraph supports looping, branching, and conditional logic, making it suitable for complex workflows such as multi-agent collaboration, document workflows, and tool usage.\n",
        "\n",
        "    Core components of LangGraph:\n",
        "    - Nodes: represent computation steps (e.g., function, LLM call)\n",
        "    - Edges: define the transition logic\n",
        "    - State: shared memory between nodes\n",
        "    - Integration: Works seamlessly with LangChain tools, retrievers, agents\n",
        "\n",
        "    LangGraph is ideal for scenarios requiring dynamic task management, reasoning, memory sharing, and multi-step planning.\n",
        "    \"\"\"\n",
        "\n",
        "    prompt = f\"\"\"\n",
        "   You are a helpful assistant. Only use the provided context to answer the question. Do not rely on prior knowledge.\n",
        "\n",
        "    Context:\n",
        "    {retrieved_docs}\n",
        "\n",
        "    Question:\n",
        "    What is LangGraph?\n",
        "    \"\"\"\n",
        "\n",
        "    payload = {\n",
        "        \"messages\": [\n",
        "            {\n",
        "                \"role\": \"user\",\n",
        "                \"content\": prompt.strip()\n",
        "            }\n",
        "        ],\n",
        "        \"model\": \"gpt-4.1-nano\",\n",
        "        \"max_tokens\": 500,\n",
        "        \"temperature\": 0.5\n",
        "    }\n",
        "\n",
        "    response = requests.post(url, headers=headers, json=payload)\n",
        "    data = response.json()\n",
        "\n",
        "    if \"choices\" in data:\n",
        "        print(\"Answer:\\n\", data[\"choices\"][0][\"message\"][\"content\"])\n",
        "    else:\n",
        "        print(\"Error:\", data)\n",
        "\n",
        "generate_completion_with_context()\n"
      ]
    },
    {
      "cell_type": "code",
      "execution_count": 9,
      "id": "2ca6d4f3",
      "metadata": {
        "colab": {
          "base_uri": "https://localhost:8080/",
          "height": 70
        },
        "id": "2ca6d4f3",
        "outputId": "9e7d6da6-3baf-45a5-e23c-29ad05966ab1"
      },
      "outputs": [
        {
          "output_type": "execute_result",
          "data": {
            "text/plain": [
              "'Context:\\nDoc: LangGraph allows building agentic workflows using graph topology.\\n\\n\\nQ: What is LangGraph?\\nA: LangGraph is a Python library for building agent-based state machines for LLMs.\\n\\n\\nQ: What does LangGraph enable?\\nA: It enables structured agent workflows.\\n\\nNow answer:\\n\\nQ: How is LangGraph different from LangChain?'"
            ],
            "application/vnd.google.colaboratory.intrinsic+json": {
              "type": "string"
            }
          },
          "metadata": {},
          "execution_count": 9
        }
      ],
      "source": [
        "\"\"\"Context:\\nDoc: LangGraph allows building agentic workflows using graph topology.\n",
        "\\n\\nQ: What is LangGraph?\\nA: LangGraph is a Python library for building agent-based state machines for LLMs.\n",
        "\\n\\nQ: What does LangGraph enable?\\nA: It enables structured agent workflows.\\n\\nNow answer:\\n\n",
        "Q: How is LangGraph different from LangChain?\"\"\""
      ]
    },
    {
      "cell_type": "markdown",
      "id": "740cd6dc",
      "metadata": {
        "id": "740cd6dc"
      },
      "source": [
        "Context:\\n...\\n\\nQ: What is the goal of the system?\\nA:\n",
        "To generate structured answers from documents.\\n\\n\n",
        "Q: How are the documents used?\\nA: They're used to ground the response.\\n\\nUser Question: What happens if documents are irrelevant?"
      ]
    },
    {
      "cell_type": "markdown",
      "id": "cbd25076",
      "metadata": {
        "id": "cbd25076"
      },
      "source": [
        "Output Format Instructions"
      ]
    },
    {
      "cell_type": "markdown",
      "id": "27249917",
      "metadata": {
        "id": "27249917"
      },
      "source": [
        "Answer in 3 bullet points, each no more than 20 words.\""
      ]
    },
    {
      "cell_type": "markdown",
      "id": "86273de0",
      "metadata": {
        "id": "86273de0"
      },
      "source": [
        "Chain-of-Thought (CoT) Prompting"
      ]
    },
    {
      "cell_type": "code",
      "execution_count": 11,
      "id": "e7549685",
      "metadata": {
        "colab": {
          "base_uri": "https://localhost:8080/",
          "height": 228
        },
        "id": "e7549685",
        "outputId": "ee638603-14c8-4ec2-a6a5-b706c2afa52d"
      },
      "outputs": [
        {
          "output_type": "stream",
          "name": "stdout",
          "text": [
            "🔗 Chain-of-Thought Response:\n",
            " 1. Based on the context, LangGraph is a Python framework designed for building AI agents.\n",
            "\n",
            "2. It is specifically structured around a graph-based architecture, where developers can define nodes (which can be functions or LLM calls) and edges (which represent the logic connecting these nodes).\n",
            "\n",
            "3. The features of LangGraph, such as support for looping, branching, conditional logic, and shared memory, are crucial for creating complex, multi-step workflows typical of intelligent agents.\n",
            "\n",
            "4. Its ability to integrate easily with LangChain tools further enhances its utility for developing dynamic, multi-agent systems that require flexible planning and execution.\n",
            "\n",
            "5. Therefore, LangGraph is useful for building agents because it provides a flexible, structured, and scalable framework to design, manage, and execute complex multi-step, multi-agent workflows with advanced control flow and shared state.\n"
          ]
        },
        {
          "output_type": "display_data",
          "data": {
            "text/plain": [
              "<IPython.core.display.Markdown object>"
            ]
          },
          "metadata": {}
        }
      ],
      "source": [
        "import requests\n",
        "\n",
        "def chain_of_thought_example():\n",
        "    url = \"https://api.euron.one/api/v1/euri/chat/completions\"\n",
        "    headers = {\n",
        "        \"Content-Type\": \"application/json\",\n",
        "        \"Authorization\": f\"Bearer {EURI_API_KEY}\"  # Replace with your key\n",
        "    }\n",
        "\n",
        "    retrieved_docs = \"\"\"\n",
        "    LangGraph is a Python framework for building stateful, multi-step AI agents using a graph-based architecture.\n",
        "    It extends LangChain by allowing developers to define nodes (functions or LLM calls) and edges (logic) between them.\n",
        "    LangGraph supports looping, branching, conditional logic, and shared memory, making it suitable for multi-agent workflows.\n",
        "    It integrates easily with LangChain tools and is ideal for complex, dynamic agent planning and execution.\n",
        "    \"\"\"\n",
        "\n",
        "    cot_prompt = f\"\"\"\n",
        "    You are a helpful assistant. Based on the following context, answer the user's question truthfully using step-by-step reasoning.\n",
        "\n",
        "    Context:\n",
        "    {retrieved_docs}\n",
        "\n",
        "    Question:\n",
        "    What is LangGraph and how is it useful for building agents?\n",
        "\n",
        "    Instructions:\n",
        "    1. Think step-by-step.\n",
        "    2. First, identify what LangGraph is based on the context.\n",
        "    3. Then, explain how its features relate to agent-based systems.\n",
        "    4. Conclude with a clear answer grounded in the given information.\n",
        "    5. give me all the opuputs with bullet point with numbering\n",
        "    \"\"\"\n",
        "\n",
        "    payload = {\n",
        "        \"messages\": [\n",
        "            {\"role\": \"user\", \"content\": cot_prompt.strip()}\n",
        "        ],\n",
        "        \"model\": \"gpt-4.1-nano\",\n",
        "        \"temperature\": 0.5,\n",
        "        \"max_tokens\": 500\n",
        "    }\n",
        "\n",
        "    response = requests.post(url, headers=headers, json=payload)\n",
        "    data = response.json()\n",
        "\n",
        "    if \"choices\" in data:\n",
        "        print(\"🔗 Chain-of-Thought Response:\\n\", data[\"choices\"][0][\"message\"][\"content\"])\n",
        "    else:\n",
        "        print(\"❌ Error:\", data)\n",
        "\n",
        "\n",
        "from IPython.display import display, Markdown, Latex\n",
        "display(Markdown(chain_of_thought_example()))"
      ]
    },
    {
      "cell_type": "markdown",
      "id": "512cb0af",
      "metadata": {
        "id": "512cb0af"
      },
      "source": [
        "Explicit Anchoring"
      ]
    },
    {
      "cell_type": "code",
      "execution_count": 12,
      "id": "94556224",
      "metadata": {
        "colab": {
          "base_uri": "https://localhost:8080/"
        },
        "id": "94556224",
        "outputId": "b2a3e886-1b28-42d1-acc5-84bf32b2732b"
      },
      "outputs": [
        {
          "output_type": "stream",
          "name": "stdout",
          "text": [
            "🧭 Explicit Anchoring Output:\n",
            " Sure! This statement means that in LangGraph, different parts called \"agents\" can work together. They can remember information they share with each other and communicate by moving from one step to another. This helps them work as a team to complete tasks.\n"
          ]
        }
      ],
      "source": [
        "import requests\n",
        "\n",
        "def explicit_anchoring_example():\n",
        "    url = \"https://api.euron.one/api/v1/euri/chat/completions\"\n",
        "    headers = {\n",
        "        \"Content-Type\": \"application/json\",\n",
        "        \"Authorization\": f\"Bearer {EURI_API_KEY}\"   # Replace with actual key\n",
        "    }\n",
        "\n",
        "    retrieved_docs = \"\"\"\n",
        "    Paragraph 1:\n",
        "    LangGraph is a Python framework that lets developers build stateful, multi-step workflows using a graph structure.\n",
        "\n",
        "    Paragraph 2:\n",
        "    LangGraph supports agent collaboration by enabling multiple nodes (agents) to share memory (state) and coordinate via transitions.\n",
        "\n",
        "    Paragraph 3:\n",
        "    LangGraph integrates seamlessly with LangChain, allowing tool use, conditional routing, and multi-agent workflows.\n",
        "    \"\"\"\n",
        "\n",
        "    explicit_prompt = f\"\"\"\n",
        "    You are a helpful assistant. Read the following context.\n",
        "\n",
        "    Context:\n",
        "    {retrieved_docs}\n",
        "\n",
        "    Instruction:\n",
        "    In paragraph 2 of the retrieved document, it says \"LangGraph supports agent collaboration by enabling multiple nodes (agents) to share memory (state) and coordinate via transitions.\"\n",
        "\n",
        "    Explain this statement in simple terms that a beginner can understand.\n",
        "    \"\"\"\n",
        "\n",
        "    payload = {\n",
        "        \"messages\": [\n",
        "            {\n",
        "                \"role\": \"user\",\n",
        "                \"content\": explicit_prompt.strip()\n",
        "            }\n",
        "        ],\n",
        "        \"model\": \"gpt-4.1-nano\",\n",
        "        \"temperature\": 0.5,\n",
        "        \"max_tokens\": 300\n",
        "    }\n",
        "\n",
        "    response = requests.post(url, headers=headers, json=payload)\n",
        "    data = response.json()\n",
        "\n",
        "    if \"choices\" in data:\n",
        "        print(\"🧭 Explicit Anchoring Output:\\n\", data[\"choices\"][0][\"message\"][\"content\"])\n",
        "    else:\n",
        "        print(\"❌ Error:\", data)\n",
        "\n",
        "explicit_anchoring_example()"
      ]
    },
    {
      "cell_type": "code",
      "execution_count": null,
      "id": "b1c69fb6",
      "metadata": {
        "id": "b1c69fb6"
      },
      "outputs": [],
      "source": []
    }
  ],
  "metadata": {
    "kernelspec": {
      "display_name": "lang_graph",
      "language": "python",
      "name": "python3"
    },
    "language_info": {
      "codemirror_mode": {
        "name": "ipython",
        "version": 3
      },
      "file_extension": ".py",
      "mimetype": "text/x-python",
      "name": "python",
      "nbconvert_exporter": "python",
      "pygments_lexer": "ipython3",
      "version": "3.10.18"
    },
    "colab": {
      "provenance": []
    }
  },
  "nbformat": 4,
  "nbformat_minor": 5
}