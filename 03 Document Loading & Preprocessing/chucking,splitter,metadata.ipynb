{
 "cells": [
  {
   "cell_type": "code",
   "execution_count": 2,
   "id": "56005628",
   "metadata": {},
   "outputs": [],
   "source": [
    "from langchain_community.document_loaders import TextLoader"
   ]
  },
  {
   "cell_type": "code",
   "execution_count": 4,
   "id": "e2ffa269",
   "metadata": {},
   "outputs": [],
   "source": [
    "documents = TextLoader(\"sample.txt\").load()"
   ]
  },
  {
   "cell_type": "code",
   "execution_count": 6,
   "id": "487d01d2",
   "metadata": {},
   "outputs": [
    {
     "data": {
      "text/plain": [
       "'Terms And Conditions\\nThese Terms of Use (\"Terms\") constitute an enforceable contract between you and Euron (\"Euron\", \"we\", or \"our\"), a subsidiary of Engage Sphere Technology Private Limited. By accessing or using our website, mobile applications, and related services (collectively, \"Services\"), you agree to be bound by these Terms. Please review them carefully as they contain important information about your legal rights, remedies, and obligations.\\n\\nTable of Contents\\nAccounts\\nCommunications\\nContent Enrollment and Access\\nPayments and Refunds\\nDigital Product Access & Shipping Policy\\nContent and Behavior Rules\\nEuron\\'s Rights to Content You Post\\nUsing Euron at Your Own Risk\\nEuron\\'s Rights\\nSubscription Terms\\nMiscellaneous Legal Terms\\nDispute Resolution\\nUpdating These Terms\\nHow to Contact Us\\n1. Accounts\\nYou need an account for most activities on our platform. Keep your password somewhere safe because you\\'re responsible for all activity associated with your account. If you suspect someone else is using your account, let us know by contacting our Support Team. You must have reached the age of consent for online services in your country to use Euron.\\n\\n2. Communications\\nBy creating an account on Euron, you grant us permission to contact you regarding important platform communications, updates, and relevant information about our services. While we may send you emails for these purposes, you maintain the right to unsubscribe from our email communications at any time through the unsubscribe option provided in our emails. However, please note that even if you opt out of marketing communications, you may still receive essential account-related and transaction notifications.\\n\\n3. Content Enrollment and Access\\nWhen you enroll in a course or other content, you get a license from us to view it via the Euron Services and no other use. Don\\'t try to transfer or resell content in any way.\\n\\n4. Payments and Refunds\\nWhen you make a payment, you agree to use a valid payment method. We put a lot of effort to bring our content to the world, and we are one of the most affordable platforms for learning in the entire world. We do not provide any refund option for our users.\\n\\n5. Digital Product Access & Shipping Policy\\nUpon successful payment through Razorpay, you will receive access to the purchased digital content or courses immediately. A confirmation email with access instructions will be sent to your registered email address. Please ensure you use the same email address for both login and purchase. Access to the content will last for the duration specified at the time of purchase, and may include downloadable resources. If you encounter any issues with access, please contact our support team. Refunds for digital products are generally not available once access has been granted, except in extenuating circumstances as outlined in our Refund Policy. Your payment information is securely processed through Razorpay, and we do not store your payment details.\\n\\n6. Content and Behavior Rules\\nYou can only use Euron for lawful purposes. You\\'re responsible for all the content that you post on our platform.\\n\\n7. Euron\\'s Rights to Content You Post\\nYou retain ownership of content you post to our platform, including your courses. By posting content, you allow Euron to reuse and share it, but you do not lose any ownership rights you may have.\\n\\n8. Using Euron at Your Own Risk\\nYou use Euron at your own risk. Euron is not responsible for any harm or damage that may result from using our platform.\\n\\n9. Euron\\'s Rights\\nWe own the Euron platform and Services, including the website, applications, APIs, and content created by our employees. You can\\'t tamper with or use them without authorization.\\n\\n10. Subscription Terms\\nAdditional terms apply to subscription-based collections.\\n\\n11. Miscellaneous Legal Terms\\nThese Terms are like any other contract and they have important legal terms that protect us from the countless things that could happen and clarify the legal relationship between us and you.\\n\\n12. Dispute Resolution\\nIf there\\'s a dispute, our Support Team is happy to help resolve the issue.\\n\\n13. Updating These Terms\\nFrom time to time, we may update these Terms to clarify our practices or to reflect new or different practices. If we make any material change, we will notify you using prominent means.\\n\\n14. How to Contact Us\\nThe best way to get in touch with us is to contact our Support Team. We\\'d love to hear your questions, concerns, and feedback about our Services.'"
      ]
     },
     "execution_count": 6,
     "metadata": {},
     "output_type": "execute_result"
    }
   ],
   "source": [
    "documents[0].page_content"
   ]
  },
  {
   "cell_type": "code",
   "execution_count": 11,
   "id": "bf88fedd",
   "metadata": {},
   "outputs": [
    {
     "data": {
      "text/plain": [
       "[Document(metadata={'source': 'sample.txt'}, page_content='Terms And Conditions'),\n",
       " Document(metadata={'source': 'sample.txt'}, page_content='These Terms of Use (\"Terms\")'),\n",
       " Document(metadata={'source': 'sample.txt'}, page_content='(\"Terms\") constitute an'),\n",
       " Document(metadata={'source': 'sample.txt'}, page_content='an enforceable contract'),\n",
       " Document(metadata={'source': 'sample.txt'}, page_content='contract between you and'),\n",
       " Document(metadata={'source': 'sample.txt'}, page_content='you and Euron (\"Euron\", \"we\",'),\n",
       " Document(metadata={'source': 'sample.txt'}, page_content='\"we\", or \"our\"), a subsidiary'),\n",
       " Document(metadata={'source': 'sample.txt'}, page_content='of Engage Sphere Technology'),\n",
       " Document(metadata={'source': 'sample.txt'}, page_content='Private Limited. By accessing'),\n",
       " Document(metadata={'source': 'sample.txt'}, page_content='accessing or using our'),\n",
       " Document(metadata={'source': 'sample.txt'}, page_content='using our website, mobile'),\n",
       " Document(metadata={'source': 'sample.txt'}, page_content='mobile applications, and'),\n",
       " Document(metadata={'source': 'sample.txt'}, page_content='and related services'),\n",
       " Document(metadata={'source': 'sample.txt'}, page_content='services (collectively,'),\n",
       " Document(metadata={'source': 'sample.txt'}, page_content='\"Services\"), you agree to be'),\n",
       " Document(metadata={'source': 'sample.txt'}, page_content='to be bound by these Terms.'),\n",
       " Document(metadata={'source': 'sample.txt'}, page_content='Terms. Please review them'),\n",
       " Document(metadata={'source': 'sample.txt'}, page_content='them carefully as they'),\n",
       " Document(metadata={'source': 'sample.txt'}, page_content='as they contain important'),\n",
       " Document(metadata={'source': 'sample.txt'}, page_content='important information about'),\n",
       " Document(metadata={'source': 'sample.txt'}, page_content='about your legal rights,'),\n",
       " Document(metadata={'source': 'sample.txt'}, page_content='rights, remedies, and'),\n",
       " Document(metadata={'source': 'sample.txt'}, page_content='and obligations.'),\n",
       " Document(metadata={'source': 'sample.txt'}, page_content='Table of Contents\\nAccounts'),\n",
       " Document(metadata={'source': 'sample.txt'}, page_content='Accounts\\nCommunications'),\n",
       " Document(metadata={'source': 'sample.txt'}, page_content='Content Enrollment and Access'),\n",
       " Document(metadata={'source': 'sample.txt'}, page_content='Payments and Refunds'),\n",
       " Document(metadata={'source': 'sample.txt'}, page_content='Digital Product Access &'),\n",
       " Document(metadata={'source': 'sample.txt'}, page_content='Access & Shipping Policy'),\n",
       " Document(metadata={'source': 'sample.txt'}, page_content='Content and Behavior Rules'),\n",
       " Document(metadata={'source': 'sample.txt'}, page_content=\"Euron's Rights to Content You\"),\n",
       " Document(metadata={'source': 'sample.txt'}, page_content='You Post'),\n",
       " Document(metadata={'source': 'sample.txt'}, page_content='Using Euron at Your Own Risk'),\n",
       " Document(metadata={'source': 'sample.txt'}, page_content=\"Euron's Rights\"),\n",
       " Document(metadata={'source': 'sample.txt'}, page_content='Subscription Terms'),\n",
       " Document(metadata={'source': 'sample.txt'}, page_content='Miscellaneous Legal Terms'),\n",
       " Document(metadata={'source': 'sample.txt'}, page_content='Dispute Resolution'),\n",
       " Document(metadata={'source': 'sample.txt'}, page_content='Updating These Terms'),\n",
       " Document(metadata={'source': 'sample.txt'}, page_content='How to Contact Us\\n1. Accounts'),\n",
       " Document(metadata={'source': 'sample.txt'}, page_content='You need an account for most'),\n",
       " Document(metadata={'source': 'sample.txt'}, page_content='for most activities on our'),\n",
       " Document(metadata={'source': 'sample.txt'}, page_content='on our platform. Keep your'),\n",
       " Document(metadata={'source': 'sample.txt'}, page_content='Keep your password somewhere'),\n",
       " Document(metadata={'source': 'sample.txt'}, page_content=\"somewhere safe because you're\"),\n",
       " Document(metadata={'source': 'sample.txt'}, page_content=\"you're responsible for all\"),\n",
       " Document(metadata={'source': 'sample.txt'}, page_content='for all activity associated'),\n",
       " Document(metadata={'source': 'sample.txt'}, page_content='with your account. If you'),\n",
       " Document(metadata={'source': 'sample.txt'}, page_content='If you suspect someone else'),\n",
       " Document(metadata={'source': 'sample.txt'}, page_content='else is using your account,'),\n",
       " Document(metadata={'source': 'sample.txt'}, page_content='account, let us know by'),\n",
       " Document(metadata={'source': 'sample.txt'}, page_content='know by contacting our'),\n",
       " Document(metadata={'source': 'sample.txt'}, page_content='our Support Team. You must'),\n",
       " Document(metadata={'source': 'sample.txt'}, page_content='You must have reached the age'),\n",
       " Document(metadata={'source': 'sample.txt'}, page_content='the age of consent for online'),\n",
       " Document(metadata={'source': 'sample.txt'}, page_content='online services in your'),\n",
       " Document(metadata={'source': 'sample.txt'}, page_content='in your country to use Euron.'),\n",
       " Document(metadata={'source': 'sample.txt'}, page_content='2. Communications'),\n",
       " Document(metadata={'source': 'sample.txt'}, page_content='By creating an account on'),\n",
       " Document(metadata={'source': 'sample.txt'}, page_content='on Euron, you grant us'),\n",
       " Document(metadata={'source': 'sample.txt'}, page_content='grant us permission to'),\n",
       " Document(metadata={'source': 'sample.txt'}, page_content='to contact you regarding'),\n",
       " Document(metadata={'source': 'sample.txt'}, page_content='regarding important platform'),\n",
       " Document(metadata={'source': 'sample.txt'}, page_content='platform communications,'),\n",
       " Document(metadata={'source': 'sample.txt'}, page_content='updates, and relevant'),\n",
       " Document(metadata={'source': 'sample.txt'}, page_content='relevant information about'),\n",
       " Document(metadata={'source': 'sample.txt'}, page_content='about our services. While we'),\n",
       " Document(metadata={'source': 'sample.txt'}, page_content='While we may send you emails'),\n",
       " Document(metadata={'source': 'sample.txt'}, page_content='emails for these purposes,'),\n",
       " Document(metadata={'source': 'sample.txt'}, page_content='purposes, you maintain the'),\n",
       " Document(metadata={'source': 'sample.txt'}, page_content='the right to unsubscribe from'),\n",
       " Document(metadata={'source': 'sample.txt'}, page_content='from our email communications'),\n",
       " Document(metadata={'source': 'sample.txt'}, page_content='at any time through the'),\n",
       " Document(metadata={'source': 'sample.txt'}, page_content='the unsubscribe option'),\n",
       " Document(metadata={'source': 'sample.txt'}, page_content='option provided in our'),\n",
       " Document(metadata={'source': 'sample.txt'}, page_content='in our emails. However,'),\n",
       " Document(metadata={'source': 'sample.txt'}, page_content='However, please note that'),\n",
       " Document(metadata={'source': 'sample.txt'}, page_content='note that even if you opt out'),\n",
       " Document(metadata={'source': 'sample.txt'}, page_content='opt out of marketing'),\n",
       " Document(metadata={'source': 'sample.txt'}, page_content='marketing communications, you'),\n",
       " Document(metadata={'source': 'sample.txt'}, page_content='you may still receive'),\n",
       " Document(metadata={'source': 'sample.txt'}, page_content='receive essential'),\n",
       " Document(metadata={'source': 'sample.txt'}, page_content='essential account-related and'),\n",
       " Document(metadata={'source': 'sample.txt'}, page_content='and transaction'),\n",
       " Document(metadata={'source': 'sample.txt'}, page_content='notifications.'),\n",
       " Document(metadata={'source': 'sample.txt'}, page_content='3. Content Enrollment and'),\n",
       " Document(metadata={'source': 'sample.txt'}, page_content='and Access'),\n",
       " Document(metadata={'source': 'sample.txt'}, page_content='When you enroll in a course'),\n",
       " Document(metadata={'source': 'sample.txt'}, page_content='a course or other content,'),\n",
       " Document(metadata={'source': 'sample.txt'}, page_content='content, you get a license'),\n",
       " Document(metadata={'source': 'sample.txt'}, page_content='a license from us to view it'),\n",
       " Document(metadata={'source': 'sample.txt'}, page_content='view it via the Euron'),\n",
       " Document(metadata={'source': 'sample.txt'}, page_content='the Euron Services and no'),\n",
       " Document(metadata={'source': 'sample.txt'}, page_content=\"and no other use. Don't try\"),\n",
       " Document(metadata={'source': 'sample.txt'}, page_content=\"Don't try to transfer or\"),\n",
       " Document(metadata={'source': 'sample.txt'}, page_content='or resell content in any way.'),\n",
       " Document(metadata={'source': 'sample.txt'}, page_content='4. Payments and Refunds'),\n",
       " Document(metadata={'source': 'sample.txt'}, page_content='When you make a payment, you'),\n",
       " Document(metadata={'source': 'sample.txt'}, page_content='you agree to use a valid'),\n",
       " Document(metadata={'source': 'sample.txt'}, page_content='a valid payment method. We'),\n",
       " Document(metadata={'source': 'sample.txt'}, page_content='We put a lot of effort to'),\n",
       " Document(metadata={'source': 'sample.txt'}, page_content='effort to bring our content'),\n",
       " Document(metadata={'source': 'sample.txt'}, page_content='content to the world, and we'),\n",
       " Document(metadata={'source': 'sample.txt'}, page_content='and we are one of the most'),\n",
       " Document(metadata={'source': 'sample.txt'}, page_content='the most affordable platforms'),\n",
       " Document(metadata={'source': 'sample.txt'}, page_content='platforms for learning in the'),\n",
       " Document(metadata={'source': 'sample.txt'}, page_content='in the entire world. We do'),\n",
       " Document(metadata={'source': 'sample.txt'}, page_content='We do not provide any refund'),\n",
       " Document(metadata={'source': 'sample.txt'}, page_content='refund option for our users.'),\n",
       " Document(metadata={'source': 'sample.txt'}, page_content='5. Digital Product Access &'),\n",
       " Document(metadata={'source': 'sample.txt'}, page_content='Access & Shipping Policy'),\n",
       " Document(metadata={'source': 'sample.txt'}, page_content='Upon successful payment'),\n",
       " Document(metadata={'source': 'sample.txt'}, page_content='payment through Razorpay, you'),\n",
       " Document(metadata={'source': 'sample.txt'}, page_content='you will receive access to'),\n",
       " Document(metadata={'source': 'sample.txt'}, page_content='access to the purchased'),\n",
       " Document(metadata={'source': 'sample.txt'}, page_content='purchased digital content or'),\n",
       " Document(metadata={'source': 'sample.txt'}, page_content='or courses immediately. A'),\n",
       " Document(metadata={'source': 'sample.txt'}, page_content='A confirmation email with'),\n",
       " Document(metadata={'source': 'sample.txt'}, page_content='with access instructions will'),\n",
       " Document(metadata={'source': 'sample.txt'}, page_content='will be sent to your'),\n",
       " Document(metadata={'source': 'sample.txt'}, page_content='to your registered email'),\n",
       " Document(metadata={'source': 'sample.txt'}, page_content='email address. Please ensure'),\n",
       " Document(metadata={'source': 'sample.txt'}, page_content='ensure you use the same email'),\n",
       " Document(metadata={'source': 'sample.txt'}, page_content='email address for both login'),\n",
       " Document(metadata={'source': 'sample.txt'}, page_content='login and purchase. Access to'),\n",
       " Document(metadata={'source': 'sample.txt'}, page_content='Access to the content will'),\n",
       " Document(metadata={'source': 'sample.txt'}, page_content='will last for the duration'),\n",
       " Document(metadata={'source': 'sample.txt'}, page_content='duration specified at the'),\n",
       " Document(metadata={'source': 'sample.txt'}, page_content='at the time of purchase, and'),\n",
       " Document(metadata={'source': 'sample.txt'}, page_content='and may include downloadable'),\n",
       " Document(metadata={'source': 'sample.txt'}, page_content='resources. If you encounter'),\n",
       " Document(metadata={'source': 'sample.txt'}, page_content='encounter any issues with'),\n",
       " Document(metadata={'source': 'sample.txt'}, page_content='with access, please contact'),\n",
       " Document(metadata={'source': 'sample.txt'}, page_content='contact our support team.'),\n",
       " Document(metadata={'source': 'sample.txt'}, page_content='team. Refunds for digital'),\n",
       " Document(metadata={'source': 'sample.txt'}, page_content='digital products are'),\n",
       " Document(metadata={'source': 'sample.txt'}, page_content='are generally not available'),\n",
       " Document(metadata={'source': 'sample.txt'}, page_content='available once access has'),\n",
       " Document(metadata={'source': 'sample.txt'}, page_content='has been granted, except in'),\n",
       " Document(metadata={'source': 'sample.txt'}, page_content='except in extenuating'),\n",
       " Document(metadata={'source': 'sample.txt'}, page_content='circumstances as outlined in'),\n",
       " Document(metadata={'source': 'sample.txt'}, page_content='in our Refund Policy. Your'),\n",
       " Document(metadata={'source': 'sample.txt'}, page_content='Your payment information is'),\n",
       " Document(metadata={'source': 'sample.txt'}, page_content='is securely processed through'),\n",
       " Document(metadata={'source': 'sample.txt'}, page_content='through Razorpay, and we do'),\n",
       " Document(metadata={'source': 'sample.txt'}, page_content='and we do not store your'),\n",
       " Document(metadata={'source': 'sample.txt'}, page_content='your payment details.'),\n",
       " Document(metadata={'source': 'sample.txt'}, page_content='6. Content and Behavior Rules'),\n",
       " Document(metadata={'source': 'sample.txt'}, page_content='You can only use Euron for'),\n",
       " Document(metadata={'source': 'sample.txt'}, page_content='Euron for lawful purposes.'),\n",
       " Document(metadata={'source': 'sample.txt'}, page_content=\"purposes. You're responsible\"),\n",
       " Document(metadata={'source': 'sample.txt'}, page_content='for all the content that you'),\n",
       " Document(metadata={'source': 'sample.txt'}, page_content='that you post on our'),\n",
       " Document(metadata={'source': 'sample.txt'}, page_content='on our platform.'),\n",
       " Document(metadata={'source': 'sample.txt'}, page_content=\"7. Euron's Rights to Content\"),\n",
       " Document(metadata={'source': 'sample.txt'}, page_content='Content You Post'),\n",
       " Document(metadata={'source': 'sample.txt'}, page_content='You retain ownership of'),\n",
       " Document(metadata={'source': 'sample.txt'}, page_content='of content you post to our'),\n",
       " Document(metadata={'source': 'sample.txt'}, page_content='to our platform, including'),\n",
       " Document(metadata={'source': 'sample.txt'}, page_content='including your courses. By'),\n",
       " Document(metadata={'source': 'sample.txt'}, page_content='By posting content, you allow'),\n",
       " Document(metadata={'source': 'sample.txt'}, page_content='you allow Euron to reuse and'),\n",
       " Document(metadata={'source': 'sample.txt'}, page_content='reuse and share it, but you'),\n",
       " Document(metadata={'source': 'sample.txt'}, page_content='but you do not lose any'),\n",
       " Document(metadata={'source': 'sample.txt'}, page_content='lose any ownership rights you'),\n",
       " Document(metadata={'source': 'sample.txt'}, page_content='you may have.'),\n",
       " Document(metadata={'source': 'sample.txt'}, page_content='8. Using Euron at Your Own'),\n",
       " Document(metadata={'source': 'sample.txt'}, page_content='Your Own Risk'),\n",
       " Document(metadata={'source': 'sample.txt'}, page_content='You use Euron at your own'),\n",
       " Document(metadata={'source': 'sample.txt'}, page_content='your own risk. Euron is not'),\n",
       " Document(metadata={'source': 'sample.txt'}, page_content='is not responsible for any'),\n",
       " Document(metadata={'source': 'sample.txt'}, page_content='for any harm or damage that'),\n",
       " Document(metadata={'source': 'sample.txt'}, page_content='that may result from using'),\n",
       " Document(metadata={'source': 'sample.txt'}, page_content='using our platform.'),\n",
       " Document(metadata={'source': 'sample.txt'}, page_content=\"9. Euron's Rights\"),\n",
       " Document(metadata={'source': 'sample.txt'}, page_content='We own the Euron platform and'),\n",
       " Document(metadata={'source': 'sample.txt'}, page_content='and Services, including the'),\n",
       " Document(metadata={'source': 'sample.txt'}, page_content='the website, applications,'),\n",
       " Document(metadata={'source': 'sample.txt'}, page_content='APIs, and content created by'),\n",
       " Document(metadata={'source': 'sample.txt'}, page_content=\"by our employees. You can't\"),\n",
       " Document(metadata={'source': 'sample.txt'}, page_content=\"You can't tamper with or use\"),\n",
       " Document(metadata={'source': 'sample.txt'}, page_content='or use them without'),\n",
       " Document(metadata={'source': 'sample.txt'}, page_content='without authorization.'),\n",
       " Document(metadata={'source': 'sample.txt'}, page_content='10. Subscription Terms'),\n",
       " Document(metadata={'source': 'sample.txt'}, page_content='Additional terms apply to'),\n",
       " Document(metadata={'source': 'sample.txt'}, page_content='apply to subscription-based'),\n",
       " Document(metadata={'source': 'sample.txt'}, page_content='collections.'),\n",
       " Document(metadata={'source': 'sample.txt'}, page_content='11. Miscellaneous Legal Terms'),\n",
       " Document(metadata={'source': 'sample.txt'}, page_content='These Terms are like any'),\n",
       " Document(metadata={'source': 'sample.txt'}, page_content='like any other contract and'),\n",
       " Document(metadata={'source': 'sample.txt'}, page_content='and they have important legal'),\n",
       " Document(metadata={'source': 'sample.txt'}, page_content='legal terms that protect us'),\n",
       " Document(metadata={'source': 'sample.txt'}, page_content='us from the countless things'),\n",
       " Document(metadata={'source': 'sample.txt'}, page_content='things that could happen and'),\n",
       " Document(metadata={'source': 'sample.txt'}, page_content='and clarify the legal'),\n",
       " Document(metadata={'source': 'sample.txt'}, page_content='the legal relationship'),\n",
       " Document(metadata={'source': 'sample.txt'}, page_content='between us and you.'),\n",
       " Document(metadata={'source': 'sample.txt'}, page_content='12. Dispute Resolution'),\n",
       " Document(metadata={'source': 'sample.txt'}, page_content=\"If there's a dispute, our\"),\n",
       " Document(metadata={'source': 'sample.txt'}, page_content='our Support Team is happy to'),\n",
       " Document(metadata={'source': 'sample.txt'}, page_content='happy to help resolve the'),\n",
       " Document(metadata={'source': 'sample.txt'}, page_content='the issue.'),\n",
       " Document(metadata={'source': 'sample.txt'}, page_content='13. Updating These Terms'),\n",
       " Document(metadata={'source': 'sample.txt'}, page_content='From time to time, we may'),\n",
       " Document(metadata={'source': 'sample.txt'}, page_content='we may update these Terms to'),\n",
       " Document(metadata={'source': 'sample.txt'}, page_content='Terms to clarify our'),\n",
       " Document(metadata={'source': 'sample.txt'}, page_content='our practices or to reflect'),\n",
       " Document(metadata={'source': 'sample.txt'}, page_content='reflect new or different'),\n",
       " Document(metadata={'source': 'sample.txt'}, page_content='different practices. If we'),\n",
       " Document(metadata={'source': 'sample.txt'}, page_content='If we make any material'),\n",
       " Document(metadata={'source': 'sample.txt'}, page_content='material change, we will'),\n",
       " Document(metadata={'source': 'sample.txt'}, page_content='we will notify you using'),\n",
       " Document(metadata={'source': 'sample.txt'}, page_content='you using prominent means.'),\n",
       " Document(metadata={'source': 'sample.txt'}, page_content='14. How to Contact Us'),\n",
       " Document(metadata={'source': 'sample.txt'}, page_content='The best way to get in touch'),\n",
       " Document(metadata={'source': 'sample.txt'}, page_content='in touch with us is to'),\n",
       " Document(metadata={'source': 'sample.txt'}, page_content='us is to contact our Support'),\n",
       " Document(metadata={'source': 'sample.txt'}, page_content=\"Support Team. We'd love to\"),\n",
       " Document(metadata={'source': 'sample.txt'}, page_content='love to hear your questions,'),\n",
       " Document(metadata={'source': 'sample.txt'}, page_content='concerns, and feedback about'),\n",
       " Document(metadata={'source': 'sample.txt'}, page_content='about our Services.')]"
      ]
     },
     "execution_count": 11,
     "metadata": {},
     "output_type": "execute_result"
    }
   ],
   "source": [
    "from langchain.text_splitter import RecursiveCharacterTextSplitter\n",
    "spliter = RecursiveCharacterTextSplitter(chunk_size=30,chunk_overlap=10,separators=\"\")\n",
    "spliter.split_documents(documents)"
   ]
  },
  {
   "cell_type": "code",
   "execution_count": 12,
   "id": "dda7a218",
   "metadata": {},
   "outputs": [],
   "source": [
    "from langchain.text_splitter import CharacterTextSplitter"
   ]
  },
  {
   "cell_type": "code",
   "execution_count": 13,
   "id": "9324e8cf",
   "metadata": {},
   "outputs": [],
   "source": [
    "char_sliter = CharacterTextSplitter(separator=\" \" ,chunk_size = 50 , chunk_overlap = 10)"
   ]
  },
  {
   "cell_type": "code",
   "execution_count": 14,
   "id": "1609811e",
   "metadata": {},
   "outputs": [
    {
     "data": {
      "text/plain": [
       "[Document(metadata={'source': 'sample.txt'}, page_content='Terms And Conditions\\nThese Terms of Use (\"Terms\")'),\n",
       " Document(metadata={'source': 'sample.txt'}, page_content='(\"Terms\") constitute an enforceable contract'),\n",
       " Document(metadata={'source': 'sample.txt'}, page_content='contract between you and Euron (\"Euron\", \"we\", or'),\n",
       " Document(metadata={'source': 'sample.txt'}, page_content='\"we\", or \"our\"), a subsidiary of Engage Sphere'),\n",
       " Document(metadata={'source': 'sample.txt'}, page_content='Sphere Technology Private Limited. By accessing or'),\n",
       " Document(metadata={'source': 'sample.txt'}, page_content='or using our website, mobile applications, and'),\n",
       " Document(metadata={'source': 'sample.txt'}, page_content='and related services (collectively, \"Services\"),'),\n",
       " Document(metadata={'source': 'sample.txt'}, page_content='you agree to be bound by these Terms. Please'),\n",
       " Document(metadata={'source': 'sample.txt'}, page_content='Please review them carefully as they contain'),\n",
       " Document(metadata={'source': 'sample.txt'}, page_content='contain important information about your legal'),\n",
       " Document(metadata={'source': 'sample.txt'}, page_content='your legal rights, remedies, and'),\n",
       " Document(metadata={'source': 'sample.txt'}, page_content='and obligations.\\n\\nTable of'),\n",
       " Document(metadata={'source': 'sample.txt'}, page_content='of Contents\\nAccounts\\nCommunications\\nContent'),\n",
       " Document(metadata={'source': 'sample.txt'}, page_content='Enrollment and Access\\nPayments and Refunds\\nDigital'),\n",
       " Document(metadata={'source': 'sample.txt'}, page_content='Product Access & Shipping Policy\\nContent and'),\n",
       " Document(metadata={'source': 'sample.txt'}, page_content=\"and Behavior Rules\\nEuron's Rights to Content You\"),\n",
       " Document(metadata={'source': 'sample.txt'}, page_content=\"You Post\\nUsing Euron at Your Own Risk\\nEuron's\"),\n",
       " Document(metadata={'source': 'sample.txt'}, page_content='Rights\\nSubscription Terms\\nMiscellaneous Legal'),\n",
       " Document(metadata={'source': 'sample.txt'}, page_content='Legal Terms\\nDispute Resolution\\nUpdating These'),\n",
       " Document(metadata={'source': 'sample.txt'}, page_content='These Terms\\nHow to Contact Us\\n1. Accounts\\nYou need'),\n",
       " Document(metadata={'source': 'sample.txt'}, page_content='need an account for most activities on our'),\n",
       " Document(metadata={'source': 'sample.txt'}, page_content='on our platform. Keep your password somewhere safe'),\n",
       " Document(metadata={'source': 'sample.txt'}, page_content=\"safe because you're responsible for all activity\"),\n",
       " Document(metadata={'source': 'sample.txt'}, page_content='activity associated with your account. If you'),\n",
       " Document(metadata={'source': 'sample.txt'}, page_content='If you suspect someone else is using your account,'),\n",
       " Document(metadata={'source': 'sample.txt'}, page_content='account, let us know by contacting our Support'),\n",
       " Document(metadata={'source': 'sample.txt'}, page_content='Support Team. You must have reached the age of'),\n",
       " Document(metadata={'source': 'sample.txt'}, page_content='the age of consent for online services in your'),\n",
       " Document(metadata={'source': 'sample.txt'}, page_content='in your country to use Euron.\\n\\n2.'),\n",
       " Document(metadata={'source': 'sample.txt'}, page_content='Euron.\\n\\n2. Communications\\nBy creating an account'),\n",
       " Document(metadata={'source': 'sample.txt'}, page_content='an account on Euron, you grant us permission to'),\n",
       " Document(metadata={'source': 'sample.txt'}, page_content='to contact you regarding important platform'),\n",
       " Document(metadata={'source': 'sample.txt'}, page_content='platform communications, updates, and relevant'),\n",
       " Document(metadata={'source': 'sample.txt'}, page_content='relevant information about our services. While we'),\n",
       " Document(metadata={'source': 'sample.txt'}, page_content='While we may send you emails for these purposes,'),\n",
       " Document(metadata={'source': 'sample.txt'}, page_content='purposes, you maintain the right to unsubscribe'),\n",
       " Document(metadata={'source': 'sample.txt'}, page_content='from our email communications at any time through'),\n",
       " Document(metadata={'source': 'sample.txt'}, page_content='through the unsubscribe option provided in our'),\n",
       " Document(metadata={'source': 'sample.txt'}, page_content='in our emails. However, please note that even if'),\n",
       " Document(metadata={'source': 'sample.txt'}, page_content='even if you opt out of marketing communications,'),\n",
       " Document(metadata={'source': 'sample.txt'}, page_content='you may still receive essential account-related'),\n",
       " Document(metadata={'source': 'sample.txt'}, page_content='and transaction notifications.\\n\\n3. Content'),\n",
       " Document(metadata={'source': 'sample.txt'}, page_content='Content Enrollment and Access\\nWhen you enroll in a'),\n",
       " Document(metadata={'source': 'sample.txt'}, page_content='in a course or other content, you get a license'),\n",
       " Document(metadata={'source': 'sample.txt'}, page_content='a license from us to view it via the Euron'),\n",
       " Document(metadata={'source': 'sample.txt'}, page_content=\"the Euron Services and no other use. Don't try to\"),\n",
       " Document(metadata={'source': 'sample.txt'}, page_content='try to transfer or resell content in any way.\\n\\n4.'),\n",
       " Document(metadata={'source': 'sample.txt'}, page_content='way.\\n\\n4. Payments and Refunds\\nWhen you make a'),\n",
       " Document(metadata={'source': 'sample.txt'}, page_content='you make a payment, you agree to use a valid'),\n",
       " Document(metadata={'source': 'sample.txt'}, page_content='a valid payment method. We put a lot of effort to'),\n",
       " Document(metadata={'source': 'sample.txt'}, page_content='effort to bring our content to the world, and we'),\n",
       " Document(metadata={'source': 'sample.txt'}, page_content='and we are one of the most affordable platforms'),\n",
       " Document(metadata={'source': 'sample.txt'}, page_content='platforms for learning in the entire world. We do'),\n",
       " Document(metadata={'source': 'sample.txt'}, page_content='We do not provide any refund option for our'),\n",
       " Document(metadata={'source': 'sample.txt'}, page_content='for our users.\\n\\n5. Digital Product Access &'),\n",
       " Document(metadata={'source': 'sample.txt'}, page_content='Access & Shipping Policy\\nUpon successful payment'),\n",
       " Document(metadata={'source': 'sample.txt'}, page_content='payment through Razorpay, you will receive access'),\n",
       " Document(metadata={'source': 'sample.txt'}, page_content='access to the purchased digital content or courses'),\n",
       " Document(metadata={'source': 'sample.txt'}, page_content='or courses immediately. A confirmation email with'),\n",
       " Document(metadata={'source': 'sample.txt'}, page_content='email with access instructions will be sent to'),\n",
       " Document(metadata={'source': 'sample.txt'}, page_content='be sent to your registered email address. Please'),\n",
       " Document(metadata={'source': 'sample.txt'}, page_content='Please ensure you use the same email address for'),\n",
       " Document(metadata={'source': 'sample.txt'}, page_content='for both login and purchase. Access to the content'),\n",
       " Document(metadata={'source': 'sample.txt'}, page_content='content will last for the duration specified at'),\n",
       " Document(metadata={'source': 'sample.txt'}, page_content='at the time of purchase, and may include'),\n",
       " Document(metadata={'source': 'sample.txt'}, page_content='include downloadable resources. If you encounter'),\n",
       " Document(metadata={'source': 'sample.txt'}, page_content='encounter any issues with access, please contact'),\n",
       " Document(metadata={'source': 'sample.txt'}, page_content='contact our support team. Refunds for digital'),\n",
       " Document(metadata={'source': 'sample.txt'}, page_content='digital products are generally not available once'),\n",
       " Document(metadata={'source': 'sample.txt'}, page_content='once access has been granted, except in'),\n",
       " Document(metadata={'source': 'sample.txt'}, page_content='except in extenuating circumstances as outlined in'),\n",
       " Document(metadata={'source': 'sample.txt'}, page_content='in our Refund Policy. Your payment information is'),\n",
       " Document(metadata={'source': 'sample.txt'}, page_content='is securely processed through Razorpay, and we do'),\n",
       " Document(metadata={'source': 'sample.txt'}, page_content='and we do not store your payment details.\\n\\n6.'),\n",
       " Document(metadata={'source': 'sample.txt'}, page_content='Content and Behavior Rules\\nYou can only use Euron'),\n",
       " Document(metadata={'source': 'sample.txt'}, page_content=\"use Euron for lawful purposes. You're responsible\"),\n",
       " Document(metadata={'source': 'sample.txt'}, page_content='for all the content that you post on our'),\n",
       " Document(metadata={'source': 'sample.txt'}, page_content=\"on our platform.\\n\\n7. Euron's Rights to Content You\"),\n",
       " Document(metadata={'source': 'sample.txt'}, page_content='You Post\\nYou retain ownership of content you post'),\n",
       " Document(metadata={'source': 'sample.txt'}, page_content='you post to our platform, including your courses.'),\n",
       " Document(metadata={'source': 'sample.txt'}, page_content='courses. By posting content, you allow Euron to'),\n",
       " Document(metadata={'source': 'sample.txt'}, page_content='Euron to reuse and share it, but you do not lose'),\n",
       " Document(metadata={'source': 'sample.txt'}, page_content='not lose any ownership rights you may have.\\n\\n8.'),\n",
       " Document(metadata={'source': 'sample.txt'}, page_content='have.\\n\\n8. Using Euron at Your Own Risk\\nYou use'),\n",
       " Document(metadata={'source': 'sample.txt'}, page_content='use Euron at your own risk. Euron is not'),\n",
       " Document(metadata={'source': 'sample.txt'}, page_content='is not responsible for any harm or damage that may'),\n",
       " Document(metadata={'source': 'sample.txt'}, page_content='that may result from using our platform.\\n\\n9.'),\n",
       " Document(metadata={'source': 'sample.txt'}, page_content=\"Euron's Rights\\nWe own the Euron platform and\"),\n",
       " Document(metadata={'source': 'sample.txt'}, page_content='and Services, including the website, applications,'),\n",
       " Document(metadata={'source': 'sample.txt'}, page_content='APIs, and content created by our employees. You'),\n",
       " Document(metadata={'source': 'sample.txt'}, page_content=\"You can't tamper with or use them without\"),\n",
       " Document(metadata={'source': 'sample.txt'}, page_content='without authorization.\\n\\n10. Subscription'),\n",
       " Document(metadata={'source': 'sample.txt'}, page_content='Terms\\nAdditional terms apply to subscription-based'),\n",
       " Document(metadata={'source': 'sample.txt'}, page_content='collections.\\n\\n11. Miscellaneous Legal Terms\\nThese'),\n",
       " Document(metadata={'source': 'sample.txt'}, page_content='Terms are like any other contract and they have'),\n",
       " Document(metadata={'source': 'sample.txt'}, page_content='they have important legal terms that protect us'),\n",
       " Document(metadata={'source': 'sample.txt'}, page_content='protect us from the countless things that could'),\n",
       " Document(metadata={'source': 'sample.txt'}, page_content='that could happen and clarify the legal'),\n",
       " Document(metadata={'source': 'sample.txt'}, page_content='the legal relationship between us and you.\\n\\n12.'),\n",
       " Document(metadata={'source': 'sample.txt'}, page_content=\"you.\\n\\n12. Dispute Resolution\\nIf there's a dispute,\"),\n",
       " Document(metadata={'source': 'sample.txt'}, page_content='a dispute, our Support Team is happy to help'),\n",
       " Document(metadata={'source': 'sample.txt'}, page_content='to help resolve the issue.\\n\\n13. Updating These'),\n",
       " Document(metadata={'source': 'sample.txt'}, page_content='These Terms\\nFrom time to time, we may update these'),\n",
       " Document(metadata={'source': 'sample.txt'}, page_content='these Terms to clarify our practices or to reflect'),\n",
       " Document(metadata={'source': 'sample.txt'}, page_content='to reflect new or different practices. If we make'),\n",
       " Document(metadata={'source': 'sample.txt'}, page_content='If we make any material change, we will notify you'),\n",
       " Document(metadata={'source': 'sample.txt'}, page_content='notify you using prominent means.\\n\\n14. How to'),\n",
       " Document(metadata={'source': 'sample.txt'}, page_content='How to Contact Us\\nThe best way to get in touch'),\n",
       " Document(metadata={'source': 'sample.txt'}, page_content='in touch with us is to contact our Support Team.'),\n",
       " Document(metadata={'source': 'sample.txt'}, page_content=\"Team. We'd love to hear your questions, concerns,\"),\n",
       " Document(metadata={'source': 'sample.txt'}, page_content='concerns, and feedback about our Services.')]"
      ]
     },
     "execution_count": 14,
     "metadata": {},
     "output_type": "execute_result"
    }
   ],
   "source": [
    "char_sliter.split_documents(documents)"
   ]
  },
  {
   "cell_type": "code",
   "execution_count": 15,
   "id": "0aa9e830",
   "metadata": {},
   "outputs": [],
   "source": [
    "from langchain.text_splitter import TokenTextSplitter"
   ]
  },
  {
   "cell_type": "code",
   "execution_count": 18,
   "id": "266579e5",
   "metadata": {},
   "outputs": [],
   "source": [
    "token_spliter = TokenTextSplitter(chunk_size = 10 , chunk_overlap = 2)"
   ]
  },
  {
   "cell_type": "code",
   "execution_count": 19,
   "id": "5480fa1c",
   "metadata": {},
   "outputs": [
    {
     "data": {
      "text/plain": [
       "[Document(metadata={'source': 'sample.txt'}, page_content='Terms And Conditions\\nThese Terms of Use (\"'),\n",
       " Document(metadata={'source': 'sample.txt'}, page_content=' Use (\"Terms\") constitute an enforceable contract'),\n",
       " Document(metadata={'source': 'sample.txt'}, page_content='able contract between you and Euron (\"Euron'),\n",
       " Document(metadata={'source': 'sample.txt'}, page_content='Euron\", \"we\", or \"our\"),'),\n",
       " Document(metadata={'source': 'sample.txt'}, page_content='our\"), a subsidiary of Engage Sphere Technology Private'),\n",
       " Document(metadata={'source': 'sample.txt'}, page_content=' Technology Private Limited. By accessing or using our website'),\n",
       " Document(metadata={'source': 'sample.txt'}, page_content=' our website, mobile applications, and related services ('),\n",
       " Document(metadata={'source': 'sample.txt'}, page_content=' services (collectively, \"Services\"), you agree'),\n",
       " Document(metadata={'source': 'sample.txt'}, page_content=' you agree to be bound by these Terms. Please'),\n",
       " Document(metadata={'source': 'sample.txt'}, page_content='. Please review them carefully as they contain important information'),\n",
       " Document(metadata={'source': 'sample.txt'}, page_content=' important information about your legal rights, remedies, and'),\n",
       " Document(metadata={'source': 'sample.txt'}, page_content=', and obligations.\\n\\nTable of Contents\\n'),\n",
       " Document(metadata={'source': 'sample.txt'}, page_content=' Contents\\nAccounts\\nCommunications\\nContent En'),\n",
       " Document(metadata={'source': 'sample.txt'}, page_content='Content Enrollment and Access\\nPayments and Ref'),\n",
       " Document(metadata={'source': 'sample.txt'}, page_content=' and Refunds\\nDigital Product Access & Shipping'),\n",
       " Document(metadata={'source': 'sample.txt'}, page_content=' & Shipping Policy\\nContent and Behavior Rules\\nE'),\n",
       " Document(metadata={'source': 'sample.txt'}, page_content=\"\\nEuron's Rights to Content You Post\\n\"),\n",
       " Document(metadata={'source': 'sample.txt'}, page_content=' Post\\nUsing Euron at Your Own Risk\\n'),\n",
       " Document(metadata={'source': 'sample.txt'}, page_content=\" Risk\\nEuron's Rights\\nSubscription Terms\"),\n",
       " Document(metadata={'source': 'sample.txt'}, page_content='scription Terms\\nMiscellaneous Legal Terms\\nDisp'),\n",
       " Document(metadata={'source': 'sample.txt'}, page_content='Dispute Resolution\\nUpdating These Terms\\n'),\n",
       " Document(metadata={'source': 'sample.txt'}, page_content=' Terms\\nHow to Contact Us\\n1. Accounts'),\n",
       " Document(metadata={'source': 'sample.txt'}, page_content='. Accounts\\nYou need an account for most activities'),\n",
       " Document(metadata={'source': 'sample.txt'}, page_content=' most activities on our platform. Keep your password somewhere'),\n",
       " Document(metadata={'source': 'sample.txt'}, page_content=\" password somewhere safe because you're responsible for all activity\"),\n",
       " Document(metadata={'source': 'sample.txt'}, page_content=' all activity associated with your account. If you suspect'),\n",
       " Document(metadata={'source': 'sample.txt'}, page_content=' you suspect someone else is using your account, let'),\n",
       " Document(metadata={'source': 'sample.txt'}, page_content=', let us know by contacting our Support Team.'),\n",
       " Document(metadata={'source': 'sample.txt'}, page_content=' Team. You must have reached the age of consent'),\n",
       " Document(metadata={'source': 'sample.txt'}, page_content=' of consent for online services in your country to use'),\n",
       " Document(metadata={'source': 'sample.txt'}, page_content=' to use Euron.\\n\\n2. Communications'),\n",
       " Document(metadata={'source': 'sample.txt'}, page_content='. Communications\\nBy creating an account on Euron'),\n",
       " Document(metadata={'source': 'sample.txt'}, page_content=' Euron, you grant us permission to contact you'),\n",
       " Document(metadata={'source': 'sample.txt'}, page_content=' contact you regarding important platform communications, updates, and'),\n",
       " Document(metadata={'source': 'sample.txt'}, page_content=', and relevant information about our services. While we'),\n",
       " Document(metadata={'source': 'sample.txt'}, page_content=' While we may send you emails for these purposes,'),\n",
       " Document(metadata={'source': 'sample.txt'}, page_content=' purposes, you maintain the right to unsubscribe from'),\n",
       " Document(metadata={'source': 'sample.txt'}, page_content='scribe from our email communications at any time through the'),\n",
       " Document(metadata={'source': 'sample.txt'}, page_content=' through the unsubscribe option provided in our emails.'),\n",
       " Document(metadata={'source': 'sample.txt'}, page_content=' emails. However, please note that even if you'),\n",
       " Document(metadata={'source': 'sample.txt'}, page_content=' if you opt out of marketing communications, you may'),\n",
       " Document(metadata={'source': 'sample.txt'}, page_content=' you may still receive essential account-related and transaction'),\n",
       " Document(metadata={'source': 'sample.txt'}, page_content=' and transaction notifications.\\n\\n3. Content En'),\n",
       " Document(metadata={'source': 'sample.txt'}, page_content=' Content Enrollment and Access\\nWhen you enroll in'),\n",
       " Document(metadata={'source': 'sample.txt'}, page_content=' enroll in a course or other content, you get'),\n",
       " Document(metadata={'source': 'sample.txt'}, page_content=' you get a license from us to view it via'),\n",
       " Document(metadata={'source': 'sample.txt'}, page_content=' it via the Euron Services and no other use'),\n",
       " Document(metadata={'source': 'sample.txt'}, page_content=\" other use. Don't try to transfer or rese\"),\n",
       " Document(metadata={'source': 'sample.txt'}, page_content=' or resell content in any way.\\n\\n'),\n",
       " Document(metadata={'source': 'sample.txt'}, page_content='\\n\\n4. Payments and Refunds\\n'),\n",
       " Document(metadata={'source': 'sample.txt'}, page_content='s\\nWhen you make a payment, you agree'),\n",
       " Document(metadata={'source': 'sample.txt'}, page_content=' you agree to use a valid payment method. We'),\n",
       " Document(metadata={'source': 'sample.txt'}, page_content='. We put a lot of effort to bring our'),\n",
       " Document(metadata={'source': 'sample.txt'}, page_content=' bring our content to the world, and we are'),\n",
       " Document(metadata={'source': 'sample.txt'}, page_content=' we are one of the most affordable platforms for learning'),\n",
       " Document(metadata={'source': 'sample.txt'}, page_content=' for learning in the entire world. We do not'),\n",
       " Document(metadata={'source': 'sample.txt'}, page_content=' do not provide any refund option for our users.'),\n",
       " Document(metadata={'source': 'sample.txt'}, page_content=' users.\\n\\n5. Digital Product Access &'),\n",
       " Document(metadata={'source': 'sample.txt'}, page_content=' Access & Shipping Policy\\nUpon successful payment through Razor'),\n",
       " Document(metadata={'source': 'sample.txt'}, page_content=' through Razorpay, you will receive access to the'),\n",
       " Document(metadata={'source': 'sample.txt'}, page_content=' to the purchased digital content or courses immediately. A'),\n",
       " Document(metadata={'source': 'sample.txt'}, page_content='. A confirmation email with access instructions will be sent'),\n",
       " Document(metadata={'source': 'sample.txt'}, page_content=' be sent to your registered email address. Please ensure'),\n",
       " Document(metadata={'source': 'sample.txt'}, page_content=' Please ensure you use the same email address for both'),\n",
       " Document(metadata={'source': 'sample.txt'}, page_content=' for both login and purchase. Access to the content'),\n",
       " Document(metadata={'source': 'sample.txt'}, page_content=' the content will last for the duration specified at the'),\n",
       " Document(metadata={'source': 'sample.txt'}, page_content=' at the time of purchase, and may include downloadable'),\n",
       " Document(metadata={'source': 'sample.txt'}, page_content=' include downloadable resources. If you encounter any issues with'),\n",
       " Document(metadata={'source': 'sample.txt'}, page_content=' issues with access, please contact our support team.'),\n",
       " Document(metadata={'source': 'sample.txt'}, page_content=' team. Refunds for digital products are generally'),\n",
       " Document(metadata={'source': 'sample.txt'}, page_content=' are generally not available once access has been granted,'),\n",
       " Document(metadata={'source': 'sample.txt'}, page_content=' granted, except in extenuating circumstances as outlined'),\n",
       " Document(metadata={'source': 'sample.txt'}, page_content=' as outlined in our Refund Policy. Your payment'),\n",
       " Document(metadata={'source': 'sample.txt'}, page_content=' Your payment information is securely processed through Razorpay,'),\n",
       " Document(metadata={'source': 'sample.txt'}, page_content='pay, and we do not store your payment details'),\n",
       " Document(metadata={'source': 'sample.txt'}, page_content=' payment details.\\n\\n6. Content and Behavior'),\n",
       " Document(metadata={'source': 'sample.txt'}, page_content=' and Behavior Rules\\nYou can only use Euron'),\n",
       " Document(metadata={'source': 'sample.txt'}, page_content=\" Euron for lawful purposes. You're responsible for\"),\n",
       " Document(metadata={'source': 'sample.txt'}, page_content=' responsible for all the content that you post on our'),\n",
       " Document(metadata={'source': 'sample.txt'}, page_content=' on our platform.\\n\\n7. Euron'),\n",
       " Document(metadata={'source': 'sample.txt'}, page_content=\" Euron's Rights to Content You Post\\nYou\"),\n",
       " Document(metadata={'source': 'sample.txt'}, page_content='\\nYou retain ownership of content you post to our'),\n",
       " Document(metadata={'source': 'sample.txt'}, page_content=' to our platform, including your courses. By posting'),\n",
       " Document(metadata={'source': 'sample.txt'}, page_content=' By posting content, you allow Euron to reuse'),\n",
       " Document(metadata={'source': 'sample.txt'}, page_content=' to reuse and share it, but you do not'),\n",
       " Document(metadata={'source': 'sample.txt'}, page_content=' do not lose any ownership rights you may have.'),\n",
       " Document(metadata={'source': 'sample.txt'}, page_content=' have.\\n\\n8. Using Euron at'),\n",
       " Document(metadata={'source': 'sample.txt'}, page_content='on at Your Own Risk\\nYou use Euron'),\n",
       " Document(metadata={'source': 'sample.txt'}, page_content=' Euron at your own risk. Euron is'),\n",
       " Document(metadata={'source': 'sample.txt'}, page_content='on is not responsible for any harm or damage that'),\n",
       " Document(metadata={'source': 'sample.txt'}, page_content=' damage that may result from using our platform.\\n'),\n",
       " Document(metadata={'source': 'sample.txt'}, page_content=\".\\n\\n9. Euron's Rights\\n\"),\n",
       " Document(metadata={'source': 'sample.txt'}, page_content=' Rights\\nWe own the Euron platform and Services'),\n",
       " Document(metadata={'source': 'sample.txt'}, page_content=' and Services, including the website, applications, APIs'),\n",
       " Document(metadata={'source': 'sample.txt'}, page_content=', APIs, and content created by our employees.'),\n",
       " Document(metadata={'source': 'sample.txt'}, page_content=\" employees. You can't tamper with or use\"),\n",
       " Document(metadata={'source': 'sample.txt'}, page_content=' or use them without authorization.\\n\\n10.'),\n",
       " Document(metadata={'source': 'sample.txt'}, page_content='10. Subscription Terms\\nAdditional terms apply to'),\n",
       " Document(metadata={'source': 'sample.txt'}, page_content=' apply to subscription-based collections.\\n\\n11'),\n",
       " Document(metadata={'source': 'sample.txt'}, page_content='\\n11. Miscellaneous Legal Terms\\nThese Terms are'),\n",
       " Document(metadata={'source': 'sample.txt'}, page_content=' Terms are like any other contract and they have important'),\n",
       " Document(metadata={'source': 'sample.txt'}, page_content=' have important legal terms that protect us from the countless'),\n",
       " Document(metadata={'source': 'sample.txt'}, page_content=' the countless things that could happen and clarify the legal'),\n",
       " Document(metadata={'source': 'sample.txt'}, page_content=' the legal relationship between us and you.\\n\\n'),\n",
       " Document(metadata={'source': 'sample.txt'}, page_content='\\n\\n12. Dispute Resolution\\nIf there'),\n",
       " Document(metadata={'source': 'sample.txt'}, page_content=\"If there's a dispute, our Support Team is\"),\n",
       " Document(metadata={'source': 'sample.txt'}, page_content=' Team is happy to help resolve the issue.\\n'),\n",
       " Document(metadata={'source': 'sample.txt'}, page_content='.\\n\\n13. Updating These Terms\\n'),\n",
       " Document(metadata={'source': 'sample.txt'}, page_content=' Terms\\nFrom time to time, we may update'),\n",
       " Document(metadata={'source': 'sample.txt'}, page_content=' may update these Terms to clarify our practices or to'),\n",
       " Document(metadata={'source': 'sample.txt'}, page_content=' or to reflect new or different practices. If we'),\n",
       " Document(metadata={'source': 'sample.txt'}, page_content=' If we make any material change, we will notify'),\n",
       " Document(metadata={'source': 'sample.txt'}, page_content=' will notify you using prominent means.\\n\\n14'),\n",
       " Document(metadata={'source': 'sample.txt'}, page_content='\\n14. How to Contact Us\\nThe best'),\n",
       " Document(metadata={'source': 'sample.txt'}, page_content='The best way to get in touch with us is'),\n",
       " Document(metadata={'source': 'sample.txt'}, page_content=\" us is to contact our Support Team. We'd\"),\n",
       " Document(metadata={'source': 'sample.txt'}, page_content=\" We'd love to hear your questions, concerns,\"),\n",
       " Document(metadata={'source': 'sample.txt'}, page_content=' concerns, and feedback about our Services.')]"
      ]
     },
     "execution_count": 19,
     "metadata": {},
     "output_type": "execute_result"
    }
   ],
   "source": [
    "token_spliter.split_documents(documents)"
   ]
  },
  {
   "cell_type": "code",
   "execution_count": 22,
   "id": "fa98e55a",
   "metadata": {},
   "outputs": [
    {
     "data": {
      "text/plain": [
       "langchain_core.documents.base.Document"
      ]
     },
     "execution_count": 22,
     "metadata": {},
     "output_type": "execute_result"
    }
   ],
   "source": [
    "type(documents[0])"
   ]
  },
  {
   "cell_type": "code",
   "execution_count": 23,
   "id": "66455715",
   "metadata": {},
   "outputs": [],
   "source": [
    "documents.append({\"creator\":\"sudhanshu\"})"
   ]
  },
  {
   "cell_type": "code",
   "execution_count": 24,
   "id": "e741e7b8",
   "metadata": {},
   "outputs": [
    {
     "data": {
      "text/plain": [
       "[Document(metadata={'source': 'sample.txt'}, page_content='Terms And Conditions\\nThese Terms of Use (\"Terms\") constitute an enforceable contract between you and Euron (\"Euron\", \"we\", or \"our\"), a subsidiary of Engage Sphere Technology Private Limited. By accessing or using our website, mobile applications, and related services (collectively, \"Services\"), you agree to be bound by these Terms. Please review them carefully as they contain important information about your legal rights, remedies, and obligations.\\n\\nTable of Contents\\nAccounts\\nCommunications\\nContent Enrollment and Access\\nPayments and Refunds\\nDigital Product Access & Shipping Policy\\nContent and Behavior Rules\\nEuron\\'s Rights to Content You Post\\nUsing Euron at Your Own Risk\\nEuron\\'s Rights\\nSubscription Terms\\nMiscellaneous Legal Terms\\nDispute Resolution\\nUpdating These Terms\\nHow to Contact Us\\n1. Accounts\\nYou need an account for most activities on our platform. Keep your password somewhere safe because you\\'re responsible for all activity associated with your account. If you suspect someone else is using your account, let us know by contacting our Support Team. You must have reached the age of consent for online services in your country to use Euron.\\n\\n2. Communications\\nBy creating an account on Euron, you grant us permission to contact you regarding important platform communications, updates, and relevant information about our services. While we may send you emails for these purposes, you maintain the right to unsubscribe from our email communications at any time through the unsubscribe option provided in our emails. However, please note that even if you opt out of marketing communications, you may still receive essential account-related and transaction notifications.\\n\\n3. Content Enrollment and Access\\nWhen you enroll in a course or other content, you get a license from us to view it via the Euron Services and no other use. Don\\'t try to transfer or resell content in any way.\\n\\n4. Payments and Refunds\\nWhen you make a payment, you agree to use a valid payment method. We put a lot of effort to bring our content to the world, and we are one of the most affordable platforms for learning in the entire world. We do not provide any refund option for our users.\\n\\n5. Digital Product Access & Shipping Policy\\nUpon successful payment through Razorpay, you will receive access to the purchased digital content or courses immediately. A confirmation email with access instructions will be sent to your registered email address. Please ensure you use the same email address for both login and purchase. Access to the content will last for the duration specified at the time of purchase, and may include downloadable resources. If you encounter any issues with access, please contact our support team. Refunds for digital products are generally not available once access has been granted, except in extenuating circumstances as outlined in our Refund Policy. Your payment information is securely processed through Razorpay, and we do not store your payment details.\\n\\n6. Content and Behavior Rules\\nYou can only use Euron for lawful purposes. You\\'re responsible for all the content that you post on our platform.\\n\\n7. Euron\\'s Rights to Content You Post\\nYou retain ownership of content you post to our platform, including your courses. By posting content, you allow Euron to reuse and share it, but you do not lose any ownership rights you may have.\\n\\n8. Using Euron at Your Own Risk\\nYou use Euron at your own risk. Euron is not responsible for any harm or damage that may result from using our platform.\\n\\n9. Euron\\'s Rights\\nWe own the Euron platform and Services, including the website, applications, APIs, and content created by our employees. You can\\'t tamper with or use them without authorization.\\n\\n10. Subscription Terms\\nAdditional terms apply to subscription-based collections.\\n\\n11. Miscellaneous Legal Terms\\nThese Terms are like any other contract and they have important legal terms that protect us from the countless things that could happen and clarify the legal relationship between us and you.\\n\\n12. Dispute Resolution\\nIf there\\'s a dispute, our Support Team is happy to help resolve the issue.\\n\\n13. Updating These Terms\\nFrom time to time, we may update these Terms to clarify our practices or to reflect new or different practices. If we make any material change, we will notify you using prominent means.\\n\\n14. How to Contact Us\\nThe best way to get in touch with us is to contact our Support Team. We\\'d love to hear your questions, concerns, and feedback about our Services.'),\n",
       " {'creator': 'sudhanshu'}]"
      ]
     },
     "execution_count": 24,
     "metadata": {},
     "output_type": "execute_result"
    }
   ],
   "source": [
    "documents"
   ]
  },
  {
   "cell_type": "code",
   "execution_count": 31,
   "id": "86140a0c",
   "metadata": {},
   "outputs": [],
   "source": [
    "documents[0].metadata = {'source': 'sample.txt','creator': 'sudhanshu'}"
   ]
  },
  {
   "cell_type": "markdown",
   "id": "c6f4c871",
   "metadata": {},
   "source": []
  },
  {
   "cell_type": "code",
   "execution_count": 32,
   "id": "359fc337",
   "metadata": {},
   "outputs": [
    {
     "data": {
      "text/plain": [
       "dict"
      ]
     },
     "execution_count": 32,
     "metadata": {},
     "output_type": "execute_result"
    }
   ],
   "source": [
    "type(documents[0].metadata)"
   ]
  },
  {
   "cell_type": "code",
   "execution_count": 33,
   "id": "70f04d7e",
   "metadata": {},
   "outputs": [
    {
     "data": {
      "text/plain": [
       "{'source': 'sample.txt', 'creator': 'sudhanshu'}"
      ]
     },
     "execution_count": 33,
     "metadata": {},
     "output_type": "execute_result"
    }
   ],
   "source": [
    "documents[0].metadata"
   ]
  },
  {
   "cell_type": "code",
   "execution_count": null,
   "id": "7a4d7716",
   "metadata": {},
   "outputs": [],
   "source": []
  },
  {
   "cell_type": "markdown",
   "id": "b3192460",
   "metadata": {},
   "source": [
    "| Use Case       | Ideal Chunk Size |\n",
    "| -------------- | ---------------- |\n",
    "| RAG Search     | 300-512 tokens   |\n",
    "| Summarization  | 512–1024 tokens  |\n",
    "| Document QA    | 500–1000 tokens  |\n",
    "| Classification | 100–300 tokens   |\n"
   ]
  },
  {
   "cell_type": "markdown",
   "id": "6d11dc9b",
   "metadata": {},
   "source": []
  }
 ],
 "metadata": {
  "kernelspec": {
   "display_name": "agentdemo",
   "language": "python",
   "name": "python3"
  },
  "language_info": {
   "codemirror_mode": {
    "name": "ipython",
    "version": 3
   },
   "file_extension": ".py",
   "mimetype": "text/x-python",
   "name": "python",
   "nbconvert_exporter": "python",
   "pygments_lexer": "ipython3",
   "version": "3.11.11"
  }
 },
 "nbformat": 4,
 "nbformat_minor": 5
}
